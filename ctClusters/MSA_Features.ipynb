{
 "cells": [
  {
   "cell_type": "code",
   "execution_count": 1,
   "metadata": {
    "collapsed": false
   },
   "outputs": [],
   "source": [
    "import numpy as np"
   ]
  },
  {
   "cell_type": "code",
   "execution_count": 2,
   "metadata": {
    "collapsed": true
   },
   "outputs": [],
   "source": [
    "f = open(\"msaCluster.txt\")"
   ]
  },
  {
   "cell_type": "code",
   "execution_count": 5,
   "metadata": {
    "collapsed": false
   },
   "outputs": [],
   "source": [
    "def toFloat(seq):\n",
    "    for x in seq:\n",
    "        try:\n",
    "            yield float(x)\n",
    "        except ValueError:\n",
    "            yield x"
   ]
  },
  {
   "cell_type": "code",
   "execution_count": 54,
   "metadata": {
    "collapsed": false
   },
   "outputs": [],
   "source": [
    "n = 0 \n",
    "allLists = []\n",
    "\n",
    "for observation in open(\"msaCluster.txt\"): \n",
    "        \n",
    "    skip = False \n",
    "\n",
    "    msa = eval(observation)\n",
    "    attributes = [] \n",
    "    attributes.append(msa[0][0])\n",
    "    att = list(msa[0][5:])\n",
    "    attributes.extend(att)\n",
    "    attributes.extend(list(msa[1]))\n",
    "\n",
    "    for item in attributes:\n",
    "        if item == '' or item == 'n': ## remove MSAs with incomplete or unusual datapoints\n",
    "            skip = True \n",
    "            break\n",
    "        else:\n",
    "            continue \n",
    "    \n",
    "    if skip: \n",
    "        pass\n",
    "    else:\n",
    "        attributes = [float(i) for i in attributes]\n",
    "        allLists.append(np.array(attributes))"
   ]
  },
  {
   "cell_type": "code",
   "execution_count": 66,
   "metadata": {
    "collapsed": false
   },
   "outputs": [],
   "source": [
    "msapoints = np.array(allLists)"
   ]
  },
  {
   "cell_type": "code",
   "execution_count": 92,
   "metadata": {
    "collapsed": false
   },
   "outputs": [
    {
     "data": {
      "text/plain": [
       "array([ 2007.,  2008.,  2009.,  2010.,  2011.,  2012.,  2013.])"
      ]
     },
     "execution_count": 92,
     "metadata": {},
     "output_type": "execute_result"
    }
   ],
   "source": [
    "np.unique(msapoints.T[0])"
   ]
  },
  {
   "cell_type": "code",
   "execution_count": 82,
   "metadata": {
    "collapsed": false
   },
   "outputs": [],
   "source": [
    "mins = np.min(msapoints, axis=0)\n",
    "maxs = np.max(msapoints, axis=0)\n",
    "rng = maxs - mins"
   ]
  },
  {
   "cell_type": "code",
   "execution_count": 83,
   "metadata": {
    "collapsed": false
   },
   "outputs": [],
   "source": [
    "high = 1.0\n",
    "low = 0.0"
   ]
  },
  {
   "cell_type": "code",
   "execution_count": 85,
   "metadata": {
    "collapsed": false
   },
   "outputs": [],
   "source": [
    "scaled_points = high - (((high - low) * (maxs - msapoints)) / rng)"
   ]
  },
  {
   "cell_type": "code",
   "execution_count": 89,
   "metadata": {
    "collapsed": false
   },
   "outputs": [
    {
     "data": {
      "text/plain": [
       "array([ 0.66666667,  0.33333333,  0.5       , ...,  0.        ,\n",
       "        1.        ,  1.        ])"
      ]
     },
     "execution_count": 89,
     "metadata": {},
     "output_type": "execute_result"
    }
   ],
   "source": [
    "scaled_points.T[0]"
   ]
  },
  {
   "cell_type": "code",
   "execution_count": 93,
   "metadata": {
    "collapsed": false
   },
   "outputs": [
    {
     "data": {
      "text/plain": [
       "0.16666666666666666"
      ]
     },
     "execution_count": 93,
     "metadata": {},
     "output_type": "execute_result"
    }
   ],
   "source": [
    "1.00/6."
   ]
  },
  {
   "cell_type": "code",
   "execution_count": 75,
   "metadata": {
    "collapsed": true
   },
   "outputs": [],
   "source": [
    "rawpoints = np.array(\n",
    "   [[2500, 0.15, 12],\n",
    "    [1200, 0.65, 20],\n",
    "    [6200, 0.35, 19]]\n",
    ") "
   ]
  },
  {
   "cell_type": "code",
   "execution_count": 76,
   "metadata": {
    "collapsed": true
   },
   "outputs": [],
   "source": [
    "high = 1.0\n",
    "low = 0.0"
   ]
  },
  {
   "cell_type": "code",
   "execution_count": 77,
   "metadata": {
    "collapsed": true
   },
   "outputs": [],
   "source": [
    "mins = np.min(rawpoints, axis=0)\n",
    "maxs = np.max(rawpoints, axis=0)\n",
    "rng = maxs - mins"
   ]
  },
  {
   "cell_type": "code",
   "execution_count": 78,
   "metadata": {
    "collapsed": false
   },
   "outputs": [],
   "source": [
    "scaled_points = high - (((high - low) * (maxs - rawpoints)) / rng)"
   ]
  },
  {
   "cell_type": "code",
   "execution_count": 79,
   "metadata": {
    "collapsed": false
   },
   "outputs": [
    {
     "data": {
      "text/plain": [
       "array([[  3.70000000e+03,   5.00000000e-01,   8.00000000e+00],\n",
       "       [  5.00000000e+03,   0.00000000e+00,   0.00000000e+00],\n",
       "       [  0.00000000e+00,   3.00000000e-01,   1.00000000e+00]])"
      ]
     },
     "execution_count": 79,
     "metadata": {},
     "output_type": "execute_result"
    }
   ],
   "source": [
    "maxs - rawpoints"
   ]
  },
  {
   "cell_type": "code",
   "execution_count": 80,
   "metadata": {
    "collapsed": false
   },
   "outputs": [
    {
     "data": {
      "text/plain": [
       "array([  6.20000000e+03,   6.50000000e-01,   2.00000000e+01])"
      ]
     },
     "execution_count": 80,
     "metadata": {},
     "output_type": "execute_result"
    }
   ],
   "source": [
    "maxs"
   ]
  },
  {
   "cell_type": "code",
   "execution_count": 81,
   "metadata": {
    "collapsed": false
   },
   "outputs": [
    {
     "data": {
      "text/plain": [
       "array([[  2.50000000e+03,   1.50000000e-01,   1.20000000e+01],\n",
       "       [  1.20000000e+03,   6.50000000e-01,   2.00000000e+01],\n",
       "       [  6.20000000e+03,   3.50000000e-01,   1.90000000e+01]])"
      ]
     },
     "execution_count": 81,
     "metadata": {},
     "output_type": "execute_result"
    }
   ],
   "source": [
    "rawpoints"
   ]
  },
  {
   "cell_type": "raw",
   "metadata": {},
   "source": []
  }
 ],
 "metadata": {
  "kernelspec": {
   "display_name": "Python 2",
   "language": "python",
   "name": "python2"
  },
  "language_info": {
   "codemirror_mode": {
    "name": "ipython",
    "version": 2
   },
   "file_extension": ".py",
   "mimetype": "text/x-python",
   "name": "python",
   "nbconvert_exporter": "python",
   "pygments_lexer": "ipython2",
   "version": "2.7.9"
  }
 },
 "nbformat": 4,
 "nbformat_minor": 0
}
