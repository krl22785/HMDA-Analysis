{
 "cells": [
  {
   "cell_type": "code",
   "execution_count": 1,
   "metadata": {
    "collapsed": false
   },
   "outputs": [],
   "source": [
    "import numpy as np"
   ]
  },
  {
   "cell_type": "code",
   "execution_count": 2,
   "metadata": {
    "collapsed": true
   },
   "outputs": [],
   "source": [
    "f = open(\"msaCluster.txt\")"
   ]
  },
  {
   "cell_type": "code",
   "execution_count": 5,
   "metadata": {
    "collapsed": false
   },
   "outputs": [],
   "source": [
    "def toFloat(seq):\n",
    "    for x in seq:\n",
    "        try:\n",
    "            yield float(x)\n",
    "        except ValueError:\n",
    "            yield x"
   ]
  },
  {
   "cell_type": "code",
   "execution_count": 126,
   "metadata": {
    "collapsed": false
   },
   "outputs": [],
   "source": [
    "n = 0 \n",
    "allLists = []\n",
    "select_year = '2013'\n",
    "\n",
    "for observation in open(\"msaCluster.txt\"): \n",
    "        \n",
    "    skip = False \n",
    "\n",
    "    msa = eval(observation)\n",
    "    year = msa[0][0]\n",
    "    \n",
    "    if year == select_year:\n",
    "        attributes = [] \n",
    "        #attributes.append(msa[0][0])\n",
    "        att = list(msa[0][5:])\n",
    "        attributes.extend(att)\n",
    "        attributes.extend(list(msa[1]))\n",
    "\n",
    "        for item in attributes:\n",
    "            if item == '' or item == 'n': ## remove MSAs with incomplete or unusual datapoints\n",
    "                skip = True \n",
    "                break\n",
    "            else:\n",
    "                continue \n",
    "\n",
    "        #allLists.append(attributes)\n",
    "        #to_add = np.array(attributes)\n",
    "\n",
    "        if skip: \n",
    "            pass\n",
    "        else:\n",
    "            attributes = [float(i) for i in attributes]\n",
    "            allLists.append(np.array(attributes))\n",
    "    else:\n",
    "        pass \n",
    "    \n",
    "msapoints = np.array(allLists)\n",
    "\n",
    "mins = np.min(msapoints, axis=0)\n",
    "maxs = np.max(msapoints, axis=0)\n",
    "rng = maxs - mins\n",
    "\n",
    "high = 1.0\n",
    "low = 0.0\n",
    "\n",
    "scaled_points = high - (((high - low) * (maxs - msapoints)) / rng)\n",
    "\n",
    "np.savetxt('scaled_MSA_' + select_year + '.txt', scaled_points, fmt = \"%.4f\")"
   ]
  },
  {
   "cell_type": "code",
   "execution_count": 127,
   "metadata": {
    "collapsed": false
   },
   "outputs": [
    {
     "data": {
      "text/plain": [
       "59271"
      ]
     },
     "execution_count": 127,
     "metadata": {},
     "output_type": "execute_result"
    }
   ],
   "source": [
    "len(scaled_points)"
   ]
  },
  {
   "cell_type": "raw",
   "metadata": {},
   "source": []
  }
 ],
 "metadata": {
  "kernelspec": {
   "display_name": "Python 2",
   "language": "python",
   "name": "python2"
  },
  "language_info": {
   "codemirror_mode": {
    "name": "ipython",
    "version": 2
   },
   "file_extension": ".py",
   "mimetype": "text/x-python",
   "name": "python",
   "nbconvert_exporter": "python",
   "pygments_lexer": "ipython2",
   "version": "2.7.9"
  }
 },
 "nbformat": 4,
 "nbformat_minor": 0
}
