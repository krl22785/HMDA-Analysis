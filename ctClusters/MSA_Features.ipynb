{
 "cells": [
  {
   "cell_type": "code",
   "execution_count": 1,
   "metadata": {
    "collapsed": false
   },
   "outputs": [],
   "source": [
    "import numpy as np"
   ]
  },
  {
   "cell_type": "code",
   "execution_count": 2,
   "metadata": {
    "collapsed": true
   },
   "outputs": [],
   "source": [
    "f = open(\"msaCluster.txt\")"
   ]
  },
  {
   "cell_type": "code",
   "execution_count": 5,
   "metadata": {
    "collapsed": false
   },
   "outputs": [],
   "source": [
    "def toFloat(seq):\n",
    "    for x in seq:\n",
    "        try:\n",
    "            yield float(x)\n",
    "        except ValueError:\n",
    "            yield x"
   ]
  },
  {
   "cell_type": "code",
   "execution_count": 54,
   "metadata": {
    "collapsed": false
   },
   "outputs": [],
   "source": [
    "n = 0 \n",
    "allLists = []\n",
    "\n",
    "for observation in open(\"msaCluster.txt\"): \n",
    "        \n",
    "    skip = False \n",
    "\n",
    "    msa = eval(observation)\n",
    "    attributes = [] \n",
    "    attributes.append(msa[0][0])\n",
    "    att = list(msa[0][5:])\n",
    "    attributes.extend(att)\n",
    "    attributes.extend(list(msa[1]))\n",
    "\n",
    "    for item in attributes:\n",
    "        if item == '' or item == 'n': ## remove MSAs with incomplete or unusual datapoints\n",
    "            skip = True \n",
    "            break\n",
    "        else:\n",
    "            continue \n",
    "    \n",
    "    if skip: \n",
    "        pass\n",
    "    else:\n",
    "        attributes = [float(i) for i in attributes]\n",
    "        allLists.append(np.array(attributes))"
   ]
  },
  {
   "cell_type": "code",
   "execution_count": 66,
   "metadata": {
    "collapsed": false
   },
   "outputs": [],
   "source": [
    "msapoints = np.array(allLists)"
   ]
  },
  {
   "cell_type": "code",
   "execution_count": 92,
   "metadata": {
    "collapsed": false
   },
   "outputs": [
    {
     "data": {
      "text/plain": [
       "array([ 2007.,  2008.,  2009.,  2010.,  2011.,  2012.,  2013.])"
      ]
     },
     "execution_count": 92,
     "metadata": {},
     "output_type": "execute_result"
    }
   ],
   "source": [
    "np.unique(msapoints.T[0])"
   ]
  },
  {
   "cell_type": "code",
   "execution_count": 82,
   "metadata": {
    "collapsed": false
   },
   "outputs": [],
   "source": [
    "mins = np.min(msapoints, axis=0)\n",
    "maxs = np.max(msapoints, axis=0)\n",
    "rng = maxs - mins"
   ]
  },
  {
   "cell_type": "code",
   "execution_count": 83,
   "metadata": {
    "collapsed": false
   },
   "outputs": [],
   "source": [
    "high = 1.0\n",
    "low = 0.0"
   ]
  },
  {
   "cell_type": "code",
   "execution_count": 85,
   "metadata": {
    "collapsed": false
   },
   "outputs": [],
   "source": [
    "scaled_points = high - (((high - low) * (maxs - msapoints)) / rng)"
   ]
  },
  {
   "cell_type": "code",
   "execution_count": 96,
   "metadata": {
    "collapsed": false
   },
   "outputs": [
    {
     "data": {
      "text/plain": [
       "array([[ 0.66666667,  0.09169559,  0.01493435, ...,  0.01374819,\n",
       "         0.01291561,  0.02017709],\n",
       "       [ 0.33333333,  0.11078772,  0.10323744, ...,  0.43506589,\n",
       "         0.23344712,  0.1492234 ],\n",
       "       [ 0.5       ,  0.13369826,  0.26480906, ...,  0.01079977,\n",
       "         0.01324431,  0.01553201],\n",
       "       ..., \n",
       "       [ 0.        ,  0.04931909,  0.07086299, ...,  0.01252774,\n",
       "         0.01817039,  0.01756423],\n",
       "       [ 1.        ,  0.17538051,  0.35281147, ...,  0.02019807,\n",
       "         0.02213649,  0.03353172],\n",
       "       [ 1.        ,  0.16403204,  0.48681968, ...,  0.00913733,\n",
       "         0.02107519,  0.02090289]])"
      ]
     },
     "execution_count": 96,
     "metadata": {},
     "output_type": "execute_result"
    }
   ],
   "source": [
    "scaled_points"
   ]
  },
  {
   "cell_type": "code",
   "execution_count": 101,
   "metadata": {
    "collapsed": false
   },
   "outputs": [],
   "source": [
    "np.savetxt('scaledMSA.txt', scaled_points, fmt = \"%.4f\", delimiter = \",\")"
   ]
  },
  {
   "cell_type": "code",
   "execution_count": 99,
   "metadata": {
    "collapsed": false
   },
   "outputs": [
    {
     "name": "stdout",
     "output_type": "stream",
     "text": [
      "100.2333\n"
     ]
    }
   ],
   "source": [
    "print \"%.4f\" % (100.2333)"
   ]
  },
  {
   "cell_type": "raw",
   "metadata": {},
   "source": []
  }
 ],
 "metadata": {
  "kernelspec": {
   "display_name": "Python 2",
   "language": "python",
   "name": "python2"
  },
  "language_info": {
   "codemirror_mode": {
    "name": "ipython",
    "version": 2
   },
   "file_extension": ".py",
   "mimetype": "text/x-python",
   "name": "python",
   "nbconvert_exporter": "python",
   "pygments_lexer": "ipython2",
   "version": "2.7.9"
  }
 },
 "nbformat": 4,
 "nbformat_minor": 0
}
