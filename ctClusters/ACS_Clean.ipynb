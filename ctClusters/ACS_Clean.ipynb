{
 "cells": [
  {
   "cell_type": "code",
   "execution_count": 2,
   "metadata": {
    "collapsed": true
   },
   "outputs": [],
   "source": [
    "import pandas as pd\n",
    "import numpy as np \n",
    "\n",
    "%matplotlib inline \n",
    "pd.set_option('display.mpl_style', 'default')"
   ]
  },
  {
   "cell_type": "code",
   "execution_count": 3,
   "metadata": {
    "collapsed": true
   },
   "outputs": [],
   "source": [
    "def extractCounty(row):\n",
    "    county_state = row[\"Geo_NAME\"]\n",
    "    return county_state.split(\",\")[1].strip()"
   ]
  },
  {
   "cell_type": "code",
   "execution_count": 4,
   "metadata": {
    "collapsed": true
   },
   "outputs": [],
   "source": [
    "def extractState(row):\n",
    "    county_state = row[\"Geo_NAME\"]\n",
    "    return county_state.split(\",\")[2].strip()"
   ]
  },
  {
   "cell_type": "markdown",
   "metadata": {},
   "source": [
    "#2010 ACS Data "
   ]
  },
  {
   "cell_type": "code",
   "execution_count": 5,
   "metadata": {
    "collapsed": false
   },
   "outputs": [],
   "source": [
    "df2010 = pd.read_csv(\"acs_2010.csv\", dtype = {'Geo_TRACT': object})"
   ]
  },
  {
   "cell_type": "code",
   "execution_count": 6,
   "metadata": {
    "collapsed": false
   },
   "outputs": [],
   "source": [
    "cols = list(df2010.columns[55:])\n",
    "cols.insert(0,df2010.columns[2])\n",
    "cols.insert(1,df2010.columns[18])\n",
    "df_filtered = df2010[cols]"
   ]
  },
  {
   "cell_type": "code",
   "execution_count": 7,
   "metadata": {
    "collapsed": false
   },
   "outputs": [
    {
     "name": "stderr",
     "output_type": "stream",
     "text": [
      "/usr/local/lib/python2.7/site-packages/pandas/core/indexing.py:244: SettingWithCopyWarning: \n",
      "A value is trying to be set on a copy of a slice from a DataFrame.\n",
      "Try using .loc[row_indexer,col_indexer] = value instead\n",
      "\n",
      "See the the caveats in the documentation: http://pandas.pydata.org/pandas-docs/stable/indexing.html#indexing-view-versus-copy\n",
      "  self.obj[key] = _infer_fill_value(value)\n",
      "/usr/local/lib/python2.7/site-packages/pandas/core/indexing.py:411: SettingWithCopyWarning: \n",
      "A value is trying to be set on a copy of a slice from a DataFrame.\n",
      "Try using .loc[row_indexer,col_indexer] = value instead\n",
      "\n",
      "See the the caveats in the documentation: http://pandas.pydata.org/pandas-docs/stable/indexing.html#indexing-view-versus-copy\n",
      "  self.obj[item] = s\n"
     ]
    }
   ],
   "source": [
    "df_filtered.loc[:,('County')] = df_filtered.apply(extractCounty, axis = 1)\n",
    "df_filtered.loc[:,('State')] = df_filtered.apply(extractState, axis = 1)"
   ]
  },
  {
   "cell_type": "code",
   "execution_count": 8,
   "metadata": {
    "collapsed": true
   },
   "outputs": [],
   "source": [
    "acs_2009 = df_filtered"
   ]
  },
  {
   "cell_type": "markdown",
   "metadata": {},
   "source": [
    "#2013 ACS Data"
   ]
  },
  {
   "cell_type": "code",
   "execution_count": 18,
   "metadata": {
    "collapsed": false
   },
   "outputs": [],
   "source": [
    "df2013 = pd.read_csv(\"acs_2013.csv\", dtype = {'Geo_TRACT': object})"
   ]
  },
  {
   "cell_type": "code",
   "execution_count": 19,
   "metadata": {
    "collapsed": false
   },
   "outputs": [],
   "source": [
    "cols = list(df2013.columns[55:])\n",
    "cols.insert(0,df2013.columns[2])\n",
    "cols.insert(1,df2013.columns[18])\n",
    "df2013 = df2013[cols]"
   ]
  },
  {
   "cell_type": "code",
   "execution_count": 20,
   "metadata": {
    "collapsed": true
   },
   "outputs": [],
   "source": [
    "acs_2013 = df2013.drop(['SE_T145_001', 'SE_T145_002', 'SE_T145_003', 'SE_T145_004', 'SE_T145_005'], axis=1)"
   ]
  },
  {
   "cell_type": "code",
   "execution_count": 21,
   "metadata": {
    "collapsed": false
   },
   "outputs": [],
   "source": [
    "acs_2013.loc[:,('County')] = acs_2013.apply(extractCounty, axis = 1)\n",
    "acs_2013.loc[:,('State')] = acs_2013.apply(extractState, axis = 1)"
   ]
  },
  {
   "cell_type": "markdown",
   "metadata": {},
   "source": [
    "####Spark Data"
   ]
  },
  {
   "cell_type": "code",
   "execution_count": 9,
   "metadata": {
    "collapsed": false
   },
   "outputs": [],
   "source": [
    "n = 0 \n",
    "\n",
    "msa_list = [] \n",
    "for observation in open(\"msaCluster_more_features.txt\"): \n",
    "    li = [] \n",
    "    msa = eval(observation)\n",
    "    li.extend(msa[0])\n",
    "    li.extend(msa[1])\n",
    "    msa_list.append(li)"
   ]
  },
  {
   "cell_type": "code",
   "execution_count": 131,
   "metadata": {
    "collapsed": true
   },
   "outputs": [],
   "source": [
    "attribute_names = ['year', 'state', 'msa', 'county', 'census_tract', 'census_tract_pop', 'census_tract_min_pop', \\\n",
    "               'owner_occupied', 'msa_median_inc', 'loan_amount', 'income', 'ratio', 'count', 'one_to_four_family_homes', \\\n",
    "               'Owner-occupied_as_a_principal dwelling', 'Not_owner-occupied_as_a_principal dwelling', \\\n",
    "               'Owner-Occupancy_NA', 'Refinancing', 'Home_Purchases', 'Loan_Purpose_NA', 'Male', 'Female', \\\n",
    "               'White', 'Black', 'Asian', 'Other_Race', 'Loan_Originated', 'Application_denied', \\\n",
    "               'Loan_purchased_by_the_institution', 'Application_Withdrawn', 'Application_Approved_Not_Accepted', \\\n",
    "               'Preapproval_Denied', 'Preapproval_Accepted_Not_Accepted', 'Loan_Origination_NA']"
   ]
  },
  {
   "cell_type": "code",
   "execution_count": 10,
   "metadata": {
    "collapsed": false
   },
   "outputs": [],
   "source": [
    "msa = pd.DataFrame(msa_list)"
   ]
  },
  {
   "cell_type": "code",
   "execution_count": 11,
   "metadata": {
    "collapsed": false
   },
   "outputs": [],
   "source": [
    "msa_2007 = msa[msa[0] == '2007']"
   ]
  },
  {
   "cell_type": "code",
   "execution_count": 12,
   "metadata": {
    "collapsed": false
   },
   "outputs": [
    {
     "data": {
      "text/html": [
       "<div style=\"max-height:1000px;max-width:1500px;overflow:auto;\">\n",
       "<table border=\"1\" class=\"dataframe\">\n",
       "  <thead>\n",
       "    <tr style=\"text-align: right;\">\n",
       "      <th></th>\n",
       "      <th>0</th>\n",
       "      <th>1</th>\n",
       "      <th>2</th>\n",
       "      <th>3</th>\n",
       "      <th>4</th>\n",
       "      <th>5</th>\n",
       "      <th>6</th>\n",
       "      <th>7</th>\n",
       "      <th>8</th>\n",
       "      <th>9</th>\n",
       "      <th>...</th>\n",
       "      <th>24</th>\n",
       "      <th>25</th>\n",
       "      <th>26</th>\n",
       "      <th>27</th>\n",
       "      <th>28</th>\n",
       "      <th>29</th>\n",
       "      <th>30</th>\n",
       "      <th>31</th>\n",
       "      <th>32</th>\n",
       "      <th>33</th>\n",
       "    </tr>\n",
       "  </thead>\n",
       "  <tbody>\n",
       "    <tr>\n",
       "      <th>0</th>\n",
       "      <td>2007</td>\n",
       "      <td>TX</td>\n",
       "      <td>Lubbock - TX</td>\n",
       "      <td>Lubbock County</td>\n",
       "      <td>0020.01</td>\n",
       "      <td>1988</td>\n",
       "      <td>19.570000</td>\n",
       "      <td>533</td>\n",
       "      <td>48900</td>\n",
       "      <td>8745</td>\n",
       "      <td>...</td>\n",
       "      <td>0</td>\n",
       "      <td>18</td>\n",
       "      <td>54</td>\n",
       "      <td>16</td>\n",
       "      <td>22</td>\n",
       "      <td>7</td>\n",
       "      <td>3</td>\n",
       "      <td>0</td>\n",
       "      <td>0</td>\n",
       "      <td>3</td>\n",
       "    </tr>\n",
       "    <tr>\n",
       "      <th>3</th>\n",
       "      <td>2007</td>\n",
       "      <td>MI</td>\n",
       "      <td>Detroit, Livonia, Dearborn - MI</td>\n",
       "      <td>Wayne County</td>\n",
       "      <td>5422.00</td>\n",
       "      <td>4731</td>\n",
       "      <td>97.610001</td>\n",
       "      <td>1228</td>\n",
       "      <td>53800</td>\n",
       "      <td>48857</td>\n",
       "      <td>...</td>\n",
       "      <td>4</td>\n",
       "      <td>91</td>\n",
       "      <td>127</td>\n",
       "      <td>235</td>\n",
       "      <td>36</td>\n",
       "      <td>52</td>\n",
       "      <td>71</td>\n",
       "      <td>0</td>\n",
       "      <td>0</td>\n",
       "      <td>33</td>\n",
       "    </tr>\n",
       "    <tr>\n",
       "      <th>6</th>\n",
       "      <td>2007</td>\n",
       "      <td>NJ</td>\n",
       "      <td>Wilmington - DE, MD, NJ</td>\n",
       "      <td>Salem County</td>\n",
       "      <td>0217.00</td>\n",
       "      <td>2082</td>\n",
       "      <td>6.150000</td>\n",
       "      <td>550</td>\n",
       "      <td>73900</td>\n",
       "      <td>25502</td>\n",
       "      <td>...</td>\n",
       "      <td>6</td>\n",
       "      <td>41</td>\n",
       "      <td>82</td>\n",
       "      <td>33</td>\n",
       "      <td>31</td>\n",
       "      <td>18</td>\n",
       "      <td>11</td>\n",
       "      <td>0</td>\n",
       "      <td>0</td>\n",
       "      <td>5</td>\n",
       "    </tr>\n",
       "    <tr>\n",
       "      <th>12</th>\n",
       "      <td>2007</td>\n",
       "      <td>TX</td>\n",
       "      <td>Dallas, Plano, Irving - TX</td>\n",
       "      <td>Dallas County</td>\n",
       "      <td>0032.01</td>\n",
       "      <td>277</td>\n",
       "      <td>66.059998</td>\n",
       "      <td>29</td>\n",
       "      <td>63200</td>\n",
       "      <td>19777</td>\n",
       "      <td>...</td>\n",
       "      <td>2</td>\n",
       "      <td>41</td>\n",
       "      <td>31</td>\n",
       "      <td>15</td>\n",
       "      <td>23</td>\n",
       "      <td>9</td>\n",
       "      <td>2</td>\n",
       "      <td>0</td>\n",
       "      <td>0</td>\n",
       "      <td>3</td>\n",
       "    </tr>\n",
       "    <tr>\n",
       "      <th>14</th>\n",
       "      <td>2007</td>\n",
       "      <td>IL</td>\n",
       "      <td>Peoria - IL</td>\n",
       "      <td>Peoria County</td>\n",
       "      <td>0026.00</td>\n",
       "      <td>1951</td>\n",
       "      <td>8.660000</td>\n",
       "      <td>720</td>\n",
       "      <td>61800</td>\n",
       "      <td>14760</td>\n",
       "      <td>...</td>\n",
       "      <td>0</td>\n",
       "      <td>17</td>\n",
       "      <td>87</td>\n",
       "      <td>44</td>\n",
       "      <td>12</td>\n",
       "      <td>9</td>\n",
       "      <td>5</td>\n",
       "      <td>0</td>\n",
       "      <td>0</td>\n",
       "      <td>3</td>\n",
       "    </tr>\n",
       "  </tbody>\n",
       "</table>\n",
       "<p>5 rows × 34 columns</p>\n",
       "</div>"
      ],
      "text/plain": [
       "      0   1                                2               3        4     5   \\\n",
       "0   2007  TX                     Lubbock - TX  Lubbock County  0020.01  1988   \n",
       "3   2007  MI  Detroit, Livonia, Dearborn - MI    Wayne County  5422.00  4731   \n",
       "6   2007  NJ          Wilmington - DE, MD, NJ    Salem County  0217.00  2082   \n",
       "12  2007  TX       Dallas, Plano, Irving - TX   Dallas County  0032.01   277   \n",
       "14  2007  IL                      Peoria - IL   Peoria County  0026.00  1951   \n",
       "\n",
       "           6     7      8      9  ...  24  25   26   27  28  29  30  31  32  \\\n",
       "0   19.570000   533  48900   8745 ...   0  18   54   16  22   7   3   0   0   \n",
       "3   97.610001  1228  53800  48857 ...   4  91  127  235  36  52  71   0   0   \n",
       "6    6.150000   550  73900  25502 ...   6  41   82   33  31  18  11   0   0   \n",
       "12  66.059998    29  63200  19777 ...   2  41   31   15  23   9   2   0   0   \n",
       "14   8.660000   720  61800  14760 ...   0  17   87   44  12   9   5   0   0   \n",
       "\n",
       "    33  \n",
       "0    3  \n",
       "3   33  \n",
       "6    5  \n",
       "12   3  \n",
       "14   3  \n",
       "\n",
       "[5 rows x 34 columns]"
      ]
     },
     "execution_count": 12,
     "metadata": {},
     "output_type": "execute_result"
    }
   ],
   "source": [
    "msa_2007.head() "
   ]
  },
  {
   "cell_type": "code",
   "execution_count": 13,
   "metadata": {
    "collapsed": false
   },
   "outputs": [],
   "source": [
    "def cleanCT(row):\n",
    "    ct = row[4]\n",
    "    return ct.replace(\".\", \"\")"
   ]
  },
  {
   "cell_type": "code",
   "execution_count": 14,
   "metadata": {
    "collapsed": false
   },
   "outputs": [
    {
     "name": "stderr",
     "output_type": "stream",
     "text": [
      "/usr/local/lib/python2.7/site-packages/IPython/kernel/__main__.py:1: SettingWithCopyWarning: \n",
      "A value is trying to be set on a copy of a slice from a DataFrame.\n",
      "Try using .loc[row_indexer,col_indexer] = value instead\n",
      "\n",
      "See the the caveats in the documentation: http://pandas.pydata.org/pandas-docs/stable/indexing.html#indexing-view-versus-copy\n",
      "  if __name__ == '__main__':\n"
     ]
    }
   ],
   "source": [
    "msa_2007[4] = msa_2007.apply(cleanCT, axis = 1)"
   ]
  },
  {
   "cell_type": "code",
   "execution_count": 15,
   "metadata": {
    "collapsed": false
   },
   "outputs": [],
   "source": [
    "testMerge = pd.merge(msa_2007, acs_2009, left_on = [3, 4], right_on = ['County', 'Geo_TRACT'])"
   ]
  },
  {
   "cell_type": "code",
   "execution_count": 16,
   "metadata": {
    "collapsed": true
   },
   "outputs": [],
   "source": [
    "testMerge.drop(['Geo_TRACT', 'Geo_NAME', 'County', 'State', 'SE_T147_001'], axis = 1, inplace = True)\n",
    "# testMerge.drop(['County', 'State'], axis = 1, inplace = True)"
   ]
  },
  {
   "cell_type": "code",
   "execution_count": null,
   "metadata": {
    "collapsed": true
   },
   "outputs": [],
   "source": []
  },
  {
   "cell_type": "code",
   "execution_count": 132,
   "metadata": {
    "collapsed": false
   },
   "outputs": [],
   "source": [
    "# for i, j in enumerate(testMerge.columns): print i, j\n",
    "# attribute_names.extend(list(testMerge.columns)[34:])"
   ]
  },
  {
   "cell_type": "code",
   "execution_count": 17,
   "metadata": {
    "collapsed": false
   },
   "outputs": [],
   "source": [
    "Census_Tracts_Store = testMerge[[0, 1, 2, 3, 4]]"
   ]
  },
  {
   "cell_type": "code",
   "execution_count": 18,
   "metadata": {
    "collapsed": true
   },
   "outputs": [],
   "source": [
    "testMerge.drop([0, 1, 2, 3, 4], axis = 1, inplace = True)"
   ]
  },
  {
   "cell_type": "code",
   "execution_count": 20,
   "metadata": {
    "collapsed": true
   },
   "outputs": [],
   "source": [
    "testMerge = testMerge.dropna()"
   ]
  },
  {
   "cell_type": "code",
   "execution_count": 93,
   "metadata": {
    "collapsed": false
   },
   "outputs": [],
   "source": [
    "X = testMerge.values"
   ]
  },
  {
   "cell_type": "markdown",
   "metadata": {},
   "source": [
    "####K-Means Clustering"
   ]
  },
  {
   "cell_type": "code",
   "execution_count": 94,
   "metadata": {
    "collapsed": false
   },
   "outputs": [],
   "source": [
    "from scipy.cluster.vq import kmeans,vq\n",
    "from scipy.spatial.distance import cdist\n",
    "from sklearn.cluster import KMeans\n",
    "from sklearn.preprocessing import scale\n",
    "from datetime import datetime\n",
    "import matplotlib.pyplot as plt"
   ]
  },
  {
   "cell_type": "code",
   "execution_count": 95,
   "metadata": {
    "collapsed": true
   },
   "outputs": [],
   "source": [
    "data = scale(X)"
   ]
  },
  {
   "cell_type": "code",
   "execution_count": 96,
   "metadata": {
    "collapsed": true
   },
   "outputs": [],
   "source": [
    "n_samples, n_features = data.shape"
   ]
  },
  {
   "cell_type": "code",
   "execution_count": 97,
   "metadata": {
    "collapsed": true
   },
   "outputs": [],
   "source": [
    "clusters = [2,3,4,5,6,7,8,9,10]"
   ]
  },
  {
   "cell_type": "code",
   "execution_count": 98,
   "metadata": {
    "collapsed": true
   },
   "outputs": [],
   "source": [
    "wss = []"
   ]
  },
  {
   "cell_type": "code",
   "execution_count": 99,
   "metadata": {
    "collapsed": false
   },
   "outputs": [
    {
     "name": "stdout",
     "output_type": "stream",
     "text": [
      "2015-07-25 15:19:57.897030\n",
      "[-171227.09132876  -87987.65946042  -80619.27845094  -52564.47413922\n",
      "  -52189.32832359  -50089.08715324  -38073.23886361  -35317.77262393]\n",
      "0:02:32.577234\n"
     ]
    }
   ],
   "source": [
    "startTime = datetime.now()\n",
    "print startTime\n",
    "for count in clusters: \n",
    "    estimator = KMeans(n_clusters = count)\n",
    "    estimator.fit(data)\n",
    "    wss_num = estimator.inertia_\n",
    "    wss.append(wss_num)\n",
    "    \n",
    "print np.diff(wss)\n",
    "print datetime.now() - startTime"
   ]
  },
  {
   "cell_type": "code",
   "execution_count": 100,
   "metadata": {
    "collapsed": false
   },
   "outputs": [],
   "source": [
    "difference = np.diff(wss)"
   ]
  },
  {
   "cell_type": "code",
   "execution_count": 101,
   "metadata": {
    "collapsed": false
   },
   "outputs": [
    {
     "data": {
      "text/plain": [
       "array([-171227.09132876,  -87987.65946042,  -80619.27845094,\n",
       "        -52564.47413922,  -52189.32832359,  -50089.08715324,\n",
       "        -38073.23886361,  -35317.77262393])"
      ]
     },
     "execution_count": 101,
     "metadata": {},
     "output_type": "execute_result"
    }
   ],
   "source": [
    "difference"
   ]
  },
  {
   "cell_type": "code",
   "execution_count": 106,
   "metadata": {
    "collapsed": false
   },
   "outputs": [
    {
     "data": {
      "text/plain": [
       "[<matplotlib.lines.Line2D at 0x11a976bd0>]"
      ]
     },
     "execution_count": 106,
     "metadata": {},
     "output_type": "execute_result"
    },
    {
     "data": {
      "image/png": "[encoded data removed]",
      "text/plain": [
       "<matplotlib.figure.Figure at 0x11bbae510>"
      ]
     },
     "metadata": {},
     "output_type": "display_data"
    }
   ],
   "source": [
    "plt.plot([3,4,5,6,7,8,9,10], difference, '-o')"
   ]
  },
  {
   "cell_type": "code",
   "execution_count": 105,
   "metadata": {
    "collapsed": false
   },
   "outputs": [
    {
     "data": {
      "text/plain": [
       "[<matplotlib.lines.Line2D at 0x11bbfb8d0>]"
      ]
     },
     "execution_count": 105,
     "metadata": {},
     "output_type": "execute_result"
    },
    {
     "data": {
      "image/png": "[encoded data removed]",
      "text/plain": [
       "<matplotlib.figure.Figure at 0x11bbfba10>"
      ]
     },
     "metadata": {},
     "output_type": "display_data"
    }
   ],
   "source": [
    "fig, ax = plt.subplots(figsize = (5,5))\n",
    "plt.plot([2, 3,4,5,6,7,8,9,10], wss, '-o')"
   ]
  },
  {
   "cell_type": "markdown",
   "metadata": {},
   "source": [
    "####Based on the elbow method, it appears 6 clusters might be the optimal amount to group by. "
   ]
  },
  {
   "cell_type": "code",
   "execution_count": 116,
   "metadata": {
    "collapsed": false
   },
   "outputs": [
    {
     "data": {
      "text/plain": [
       "KMeans(copy_x=True, init='k-means++', max_iter=300, n_clusters=6, n_init=10,\n",
       "    n_jobs=1, precompute_distances=True, random_state=None, tol=0.0001,\n",
       "    verbose=0)"
      ]
     },
     "execution_count": 116,
     "metadata": {},
     "output_type": "execute_result"
    }
   ],
   "source": [
    "estimator = KMeans(n_clusters = 6)\n",
    "estimator.fit(data)"
   ]
  },
  {
   "cell_type": "code",
   "execution_count": 117,
   "metadata": {
    "collapsed": true
   },
   "outputs": [],
   "source": [
    "centroids = pd.DataFrame(estimator.cluster_centers_)"
   ]
  },
  {
   "cell_type": "code",
   "execution_count": 118,
   "metadata": {
    "collapsed": true
   },
   "outputs": [],
   "source": [
    "# for col in centroids.columns:\n",
    "#     centroids[col] = centroids[col].apply(lambda x: (x * nyc_rac_grouped[col].std()) + nyc_rac_grouped[col].mean())\n",
    "centroids.columns = testMerge.columns"
   ]
  },
  {
   "cell_type": "code",
   "execution_count": 119,
   "metadata": {
    "collapsed": false
   },
   "outputs": [],
   "source": [
    "for col in centroids:\n",
    "    centroids[col] = centroids[col].apply(lambda x: (x * testMerge[col].std()) + testMerge[col].mean())"
   ]
  },
  {
   "cell_type": "code",
   "execution_count": 121,
   "metadata": {
    "collapsed": false
   },
   "outputs": [
    {
     "data": {
      "text/plain": [
       "5                3991.665569\n",
       "6                  27.663797\n",
       "7                1034.239719\n",
       "8               75168.040584\n",
       "9              110435.719137\n",
       "10              52426.232908\n",
       "11                783.458970\n",
       "12                283.826533\n",
       "13             365675.274177\n",
       "14                264.998420\n",
       "15                 18.626163\n",
       "16                  0.201950\n",
       "17                157.203861\n",
       "18                103.925088\n",
       "19                 22.697583\n",
       "20                  0.000000\n",
       "21                283.826533\n",
       "22                181.248824\n",
       "23                 11.447856\n",
       "24                 29.438918\n",
       "25                 61.690935\n",
       "26                134.591089\n",
       "27                 52.669858\n",
       "28                 39.078286\n",
       "29                 22.857115\n",
       "30                 26.616352\n",
       "31                  0.031261\n",
       "32                  0.003730\n",
       "33                  7.978843\n",
       "SE_T013_001      4120.396045\n",
       "SE_T013_002      3027.752303\n",
       "SE_T013_003       161.571698\n",
       "SE_T013_004        11.695424\n",
       "SE_T013_005       604.602528\n",
       "SE_T013_006        13.713578\n",
       "SE_T013_007       181.406034\n",
       "SE_T013_008       119.654479\n",
       "SE_T037_001      2221.220860\n",
       "SE_T037_002      2095.693944\n",
       "SE_T037_003       125.526916\n",
       "SE_T057_001     98359.153994\n",
       "SE_T083_001     49698.621376\n",
       "SE_T146_001         0.422805\n",
       "SE_T093_001      1646.558303\n",
       "SE_T095_001      1646.558303\n",
       "SE_T095_002      1539.800039\n",
       "SE_T095_003       106.758264\n",
       "SE_T096_001       106.758264\n",
       "SE_T096_002        22.244125\n",
       "SE_T096_003        16.461716\n",
       "SE_T096_004        68.052424\n",
       "SE_T098_001      1965.065176\n",
       "SE_T101_001    580085.005647\n",
       "SE_T104_001      1473.466801\n",
       "Name: 0, dtype: float64"
      ]
     },
     "execution_count": 121,
     "metadata": {},
     "output_type": "execute_result"
    }
   ],
   "source": [
    "centroids.ix[0]#.transpose()"
   ]
  },
  {
   "cell_type": "code",
   "execution_count": null,
   "metadata": {
    "collapsed": true
   },
   "outputs": [],
   "source": []
  },
  {
   "cell_type": "code",
   "execution_count": null,
   "metadata": {
    "collapsed": true
   },
   "outputs": [],
   "source": []
  },
  {
   "cell_type": "code",
   "execution_count": 60,
   "metadata": {
    "collapsed": true
   },
   "outputs": [],
   "source": [
    "testMSA = msa_2007"
   ]
  },
  {
   "cell_type": "code",
   "execution_count": 64,
   "metadata": {
    "collapsed": false
   },
   "outputs": [
    {
     "name": "stderr",
     "output_type": "stream",
     "text": [
      "/usr/local/lib/python2.7/site-packages/IPython/kernel/__main__.py:1: SettingWithCopyWarning: \n",
      "A value is trying to be set on a copy of a slice from a DataFrame\n",
      "\n",
      "See the the caveats in the documentation: http://pandas.pydata.org/pandas-docs/stable/indexing.html#indexing-view-versus-copy\n",
      "  if __name__ == '__main__':\n"
     ]
    }
   ],
   "source": [
    "testMSA.drop([0, 1, 2, 3, 4], axis = 1, inplace = True)"
   ]
  },
  {
   "cell_type": "code",
   "execution_count": 69,
   "metadata": {
    "collapsed": false
   },
   "outputs": [],
   "source": [
    "testdata = scale(testMSA.values)"
   ]
  },
  {
   "cell_type": "code",
   "execution_count": 74,
   "metadata": {
    "collapsed": false
   },
   "outputs": [
    {
     "name": "stdout",
     "output_type": "stream",
     "text": [
      "2015-07-25 14:48:00.096061\n",
      "0:01:20.218912\n"
     ]
    }
   ],
   "source": [
    "startTime = datetime.now()\n",
    "print startTime\n",
    "wss = []\n",
    "for count in clusters: \n",
    "    estimator = KMeans(n_clusters = count)\n",
    "    estimator.fit(testdata)\n",
    "    wss_num = estimator.inertia_\n",
    "    wss.append(wss_num)\n",
    "    \n",
    "print datetime.now() - startTime"
   ]
  },
  {
   "cell_type": "code",
   "execution_count": 78,
   "metadata": {
    "collapsed": false
   },
   "outputs": [
    {
     "data": {
      "text/plain": [
       "[<matplotlib.lines.Line2D at 0x1140b6c50>]"
      ]
     },
     "execution_count": 78,
     "metadata": {},
     "output_type": "execute_result"
    },
    {
     "data": {
      "image/png": "[encoded data removed]",
      "text/plain": [
       "<matplotlib.figure.Figure at 0x11a6e8490>"
      ]
     },
     "metadata": {},
     "output_type": "display_data"
    }
   ],
   "source": [
    "plt.plot([2,3,4,5,6,7,8,9,10], wss, '-o')"
   ]
  },
  {
   "cell_type": "code",
   "execution_count": 82,
   "metadata": {
    "collapsed": false
   },
   "outputs": [
    {
     "data": {
      "text/plain": [
       "[<matplotlib.lines.Line2D at 0x1127d7810>]"
      ]
     },
     "execution_count": 82,
     "metadata": {},
     "output_type": "execute_result"
    },
    {
     "data": {
      "image/png": "[encoded data removed]",
      "text/plain": [
       "<matplotlib.figure.Figure at 0x112cf5a90>"
      ]
     },
     "metadata": {},
     "output_type": "display_data"
    }
   ],
   "source": [
    "plt.plot([3,4,5,6,7,8,9,10], np.diff(wss), '-o')"
   ]
  },
  {
   "cell_type": "code",
   "execution_count": null,
   "metadata": {
    "collapsed": true
   },
   "outputs": [],
   "source": []
  }
 ],
 "metadata": {
  "kernelspec": {
   "display_name": "Python 2",
   "language": "python",
   "name": "python2"
  },
  "language_info": {
   "codemirror_mode": {
    "name": "ipython",
    "version": 2
   },
   "file_extension": ".py",
   "mimetype": "text/x-python",
   "name": "python",
   "nbconvert_exporter": "python",
   "pygments_lexer": "ipython2",
   "version": "2.7.9"
  }
 },
 "nbformat": 4,
 "nbformat_minor": 0
}
