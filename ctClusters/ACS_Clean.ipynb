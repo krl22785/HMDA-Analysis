{
 "cells": [
  {
   "cell_type": "code",
   "execution_count": 335,
   "metadata": {
    "collapsed": true
   },
   "outputs": [],
   "source": [
    "import pandas as pd\n",
    "import numpy as np \n",
    "\n",
    "# %matplotlib inline \n",
    "# pd.set_option('display.mpl_style', 'default')\n",
    "\n",
    "import matplotlib.pyplot as plt\n",
    "pd.set_option('display.mpl_style', 'default')\n",
    "%matplotlib inline"
   ]
  },
  {
   "cell_type": "code",
   "execution_count": 2,
   "metadata": {
    "collapsed": true
   },
   "outputs": [],
   "source": [
    "def extractCounty(row):\n",
    "    county_state = row[\"Geo_NAME\"]\n",
    "    return county_state.split(\",\")[1].strip()"
   ]
  },
  {
   "cell_type": "code",
   "execution_count": 3,
   "metadata": {
    "collapsed": true
   },
   "outputs": [],
   "source": [
    "def extractState(row):\n",
    "    county_state = row[\"Geo_NAME\"]\n",
    "    return county_state.split(\",\")[2].strip()"
   ]
  },
  {
   "cell_type": "markdown",
   "metadata": {},
   "source": [
    "#2010 ACS Data"
   ]
  },
  {
   "cell_type": "code",
   "execution_count": 72,
   "metadata": {
    "collapsed": false
   },
   "outputs": [],
   "source": [
    "df2010 = pd.read_csv(\"acs_2010.csv\", dtype = {'Geo_TRACT': object})"
   ]
  },
  {
   "cell_type": "code",
   "execution_count": 73,
   "metadata": {
    "collapsed": false
   },
   "outputs": [],
   "source": [
    "cols = list(df2010.columns[55:])\n",
    "cols.insert(0,df2010.columns[2])\n",
    "cols.insert(1,df2010.columns[18])\n",
    "df_filtered = df2010[cols]"
   ]
  },
  {
   "cell_type": "code",
   "execution_count": 74,
   "metadata": {
    "collapsed": false
   },
   "outputs": [],
   "source": [
    "df_filtered.loc[:,'County'] = df_filtered.apply(extractCounty, axis = 1)\n",
    "df_filtered.loc[:,'State'] = df_filtered.apply(extractState, axis = 1)"
   ]
  },
  {
   "cell_type": "code",
   "execution_count": 75,
   "metadata": {
    "collapsed": true
   },
   "outputs": [],
   "source": [
    "acs_2009 = df_filtered"
   ]
  },
  {
   "cell_type": "code",
   "execution_count": 76,
   "metadata": {
    "collapsed": true
   },
   "outputs": [],
   "source": [
    "def normalizeRace(row):\n",
    "    race = float(row['SE_T013_002'])\n",
    "    total = float(row['SE_T013_001'])\n",
    "    return (race/total) "
   ]
  },
  {
   "cell_type": "markdown",
   "metadata": {},
   "source": [
    "####Convert Race Percentages"
   ]
  },
  {
   "cell_type": "code",
   "execution_count": 77,
   "metadata": {
    "collapsed": false
   },
   "outputs": [],
   "source": [
    "acs_2009.iloc[:,2] = acs_2009.iloc[:,2].astype(float)"
   ]
  },
  {
   "cell_type": "code",
   "execution_count": 78,
   "metadata": {
    "collapsed": false
   },
   "outputs": [],
   "source": [
    "acs_2009.iloc[:,3] = acs_2009.iloc[:,3]/acs_2009.iloc[:,2]\n",
    "acs_2009.iloc[:,4] = acs_2009.iloc[:,4]/acs_2009.iloc[:,2]\n",
    "acs_2009.iloc[:,5] = acs_2009.iloc[:,5]/acs_2009.iloc[:,2]\n",
    "acs_2009.iloc[:,6] = acs_2009.iloc[:,6]/acs_2009.iloc[:,2]\n",
    "acs_2009.iloc[:,7] = acs_2009.iloc[:,7]/acs_2009.iloc[:,2]\n",
    "acs_2009.iloc[:,8] = acs_2009.iloc[:,8]/acs_2009.iloc[:,2]\n",
    "acs_2009.iloc[:,9] = acs_2009.iloc[:,9]/acs_2009.iloc[:,2]"
   ]
  },
  {
   "cell_type": "markdown",
   "metadata": {},
   "source": [
    "####Convert Employment"
   ]
  },
  {
   "cell_type": "code",
   "execution_count": 79,
   "metadata": {
    "collapsed": false
   },
   "outputs": [],
   "source": [
    "acs_2009.loc[:,'SE_T037_001'] = acs_2009.loc[:,'SE_T037_001'].astype(float) "
   ]
  },
  {
   "cell_type": "code",
   "execution_count": 80,
   "metadata": {
    "collapsed": false
   },
   "outputs": [],
   "source": [
    "acs_2009.loc[:,'SE_T037_002'] = acs_2009.loc[:,'SE_T037_002']/acs_2009['SE_T037_001']\n",
    "acs_2009.loc[:,'SE_T037_003'] = acs_2009.loc[:,'SE_T037_003']/acs_2009['SE_T037_001']"
   ]
  },
  {
   "cell_type": "code",
   "execution_count": 81,
   "metadata": {
    "collapsed": true
   },
   "outputs": [],
   "source": [
    "acs_2009.loc[:,'SE_T095_001'] = acs_2009.loc[:,'SE_T095_001'].astype(float)"
   ]
  },
  {
   "cell_type": "code",
   "execution_count": 82,
   "metadata": {
    "collapsed": false,
    "scrolled": true
   },
   "outputs": [],
   "source": [
    "acs_2009.loc[:,'SE_T095_002'] = acs_2009.loc[:,'SE_T095_002'] / acs_2009.loc[:,'SE_T095_001']\n",
    "acs_2009.loc[:,'SE_T095_003'] = acs_2009.loc[:,'SE_T095_003'] / acs_2009.loc[:,'SE_T095_001']"
   ]
  },
  {
   "cell_type": "code",
   "execution_count": 83,
   "metadata": {
    "collapsed": true
   },
   "outputs": [],
   "source": [
    "acs_2009.loc[:,'SE_T096_001'] = acs_2009.loc[:,'SE_T096_001'].astype(float)"
   ]
  },
  {
   "cell_type": "code",
   "execution_count": 84,
   "metadata": {
    "collapsed": true
   },
   "outputs": [],
   "source": [
    "acs_2009.loc[:,'SE_T096_002'] = acs_2009.loc[:,'SE_T096_002'] / acs_2009.loc[:,'SE_T096_001']\n",
    "acs_2009.loc[:,'SE_T096_003'] = acs_2009.loc[:,'SE_T096_003'] / acs_2009.loc[:,'SE_T096_001']\n",
    "acs_2009.loc[:,'SE_T096_004'] = acs_2009.loc[:,'SE_T096_004'] / acs_2009.loc[:,'SE_T096_001']"
   ]
  },
  {
   "cell_type": "code",
   "execution_count": 85,
   "metadata": {
    "collapsed": true
   },
   "outputs": [],
   "source": [
    "acs_2009.loc[:,'SE_T098_001'] = 2010 - acs_2009.loc[:,'SE_T098_001']"
   ]
  },
  {
   "cell_type": "code",
   "execution_count": 86,
   "metadata": {
    "collapsed": false
   },
   "outputs": [
    {
     "name": "stderr",
     "output_type": "stream",
     "text": [
      "/usr/local/lib/python2.7/site-packages/IPython/kernel/__main__.py:1: SettingWithCopyWarning: \n",
      "A value is trying to be set on a copy of a slice from a DataFrame\n",
      "\n",
      "See the the caveats in the documentation: http://pandas.pydata.org/pandas-docs/stable/indexing.html#indexing-view-versus-copy\n",
      "  if __name__ == '__main__':\n"
     ]
    }
   ],
   "source": [
    "acs_2009.drop(['SE_T013_001', 'SE_T037_001',   'SE_T147_001', 'SE_T095_001', 'SE_T096_001', 'SE_T147_001'], axis = 1, inplace = True)"
   ]
  },
  {
   "cell_type": "code",
   "execution_count": null,
   "metadata": {
    "collapsed": false
   },
   "outputs": [],
   "source": []
  },
  {
   "cell_type": "markdown",
   "metadata": {},
   "source": [
    "#2013 ACS Data"
   ]
  },
  {
   "cell_type": "code",
   "execution_count": 8,
   "metadata": {
    "collapsed": false
   },
   "outputs": [],
   "source": [
    "df2013 = pd.read_csv(\"acs_2013.csv\", dtype = {'Geo_TRACT': object})"
   ]
  },
  {
   "cell_type": "code",
   "execution_count": 9,
   "metadata": {
    "collapsed": false
   },
   "outputs": [],
   "source": [
    "cols = list(df2013.columns[55:])\n",
    "cols.insert(0,df2013.columns[2])\n",
    "cols.insert(1,df2013.columns[18])\n",
    "df2013 = df2013[cols]"
   ]
  },
  {
   "cell_type": "code",
   "execution_count": 10,
   "metadata": {
    "collapsed": true
   },
   "outputs": [],
   "source": [
    "acs_2013 = df2013.drop(['SE_T145_001', 'SE_T145_002', 'SE_T145_003', 'SE_T145_004', 'SE_T145_005'], axis=1)"
   ]
  },
  {
   "cell_type": "code",
   "execution_count": 11,
   "metadata": {
    "collapsed": false
   },
   "outputs": [],
   "source": [
    "acs_2013.loc[:,('County')] = acs_2013.apply(extractCounty, axis = 1)\n",
    "acs_2013.loc[:,('State')] = acs_2013.apply(extractState, axis = 1)"
   ]
  },
  {
   "cell_type": "markdown",
   "metadata": {},
   "source": [
    "####Spark Data"
   ]
  },
  {
   "cell_type": "code",
   "execution_count": 248,
   "metadata": {
    "collapsed": false
   },
   "outputs": [],
   "source": [
    "n = 0 \n",
    "\n",
    "msa_list = [] \n",
    "for observation in open(\"msaCluster_more_features2.txt\"): \n",
    "    li = [] \n",
    "    msa = eval(observation)\n",
    "    li.extend(msa[0])\n",
    "    li.extend(msa[1])\n",
    "    msa_list.append(li)"
   ]
  },
  {
   "cell_type": "code",
   "execution_count": 249,
   "metadata": {
    "collapsed": true
   },
   "outputs": [],
   "source": [
    "attribute_names = ['year', 'state', 'msa', 'county', 'census_tract', 'census_tract_pop', 'census_tract_min_pop', \\\n",
    "               'owner_occupied', 'msa_median_inc', 'loan_amount', 'income', 'ratio', 'count', 'one_to_four_family_homes', \\\n",
    "               'Owner-occupied_as_a_principal dwelling', 'Not_owner-occupied_as_a_principal dwelling', \\\n",
    "               'Owner-Occupancy_NA', 'Refinancing', 'Home_Purchases', 'Loan_Purpose_NA', 'Male', 'Female', \\\n",
    "               'White', 'Black', 'Asian', 'Other_Race', 'Loan_Originated', 'Application_denied', \\\n",
    "               'Loan_purchased_by_the_institution', 'Application_Withdrawn', 'Application_Approved_Not_Accepted', \\\n",
    "               'Preapproval_Denied', 'Preapproval_Accepted_Not_Accepted', 'Loan_Origination_NA']"
   ]
  },
  {
   "cell_type": "code",
   "execution_count": 250,
   "metadata": {
    "collapsed": false
   },
   "outputs": [],
   "source": [
    "msa = pd.DataFrame(msa_list)"
   ]
  },
  {
   "cell_type": "code",
   "execution_count": 251,
   "metadata": {
    "collapsed": true
   },
   "outputs": [],
   "source": [
    "def normalizeLoanAmount(row):\n",
    "    loan = row[9]\n",
    "    count = float(row[12])\n",
    "    return (loan/count)"
   ]
  },
  {
   "cell_type": "code",
   "execution_count": 252,
   "metadata": {
    "collapsed": true
   },
   "outputs": [],
   "source": [
    "def normalizeIncome(row):\n",
    "    income = row[10]\n",
    "    count = float(row[12])\n",
    "    return (income/count)"
   ]
  },
  {
   "cell_type": "code",
   "execution_count": 253,
   "metadata": {
    "collapsed": true
   },
   "outputs": [],
   "source": [
    "def normalizeRatio(row):\n",
    "    ratio = row[11]\n",
    "    count = float(row[12])\n",
    "    return (ratio/count)"
   ]
  },
  {
   "cell_type": "code",
   "execution_count": 254,
   "metadata": {
    "collapsed": true
   },
   "outputs": [],
   "source": [
    "def normalizeHomes(row):\n",
    "    homes = row[13]\n",
    "    count = float(row[12])\n",
    "    return (homes/count)"
   ]
  },
  {
   "cell_type": "code",
   "execution_count": 255,
   "metadata": {
    "collapsed": false
   },
   "outputs": [],
   "source": [
    "msa.loc[:,(9)] = msa.apply(normalizeLoanAmount, axis = 1)\n",
    "msa.loc[:,(10)] = msa.apply(normalizeIncome, axis = 1)\n",
    "msa.loc[:,(11)] = msa.apply(normalizeRatio, axis = 1)\n",
    "msa.loc[:,(13)] = msa.apply(normalizeHomes, axis = 1)"
   ]
  },
  {
   "cell_type": "code",
   "execution_count": null,
   "metadata": {
    "collapsed": true
   },
   "outputs": [],
   "source": []
  },
  {
   "cell_type": "code",
   "execution_count": 256,
   "metadata": {
    "collapsed": false
   },
   "outputs": [],
   "source": [
    "msa_2007 = msa[msa[0] == '2007']"
   ]
  },
  {
   "cell_type": "code",
   "execution_count": 257,
   "metadata": {
    "collapsed": false
   },
   "outputs": [],
   "source": [
    "def cleanCT(row):\n",
    "    ct = row[4]\n",
    "    return ct.replace(\".\", \"\")"
   ]
  },
  {
   "cell_type": "code",
   "execution_count": 258,
   "metadata": {
    "collapsed": false
   },
   "outputs": [],
   "source": [
    "msa_2007.loc[:,4] = msa_2007.apply(cleanCT, axis = 1)"
   ]
  },
  {
   "cell_type": "code",
   "execution_count": 259,
   "metadata": {
    "collapsed": false
   },
   "outputs": [
    {
     "name": "stdout",
     "output_type": "stream",
     "text": [
      "53056\n",
      "74002\n"
     ]
    }
   ],
   "source": [
    "print len(msa_2007)\n",
    "print len(acs_2009)"
   ]
  },
  {
   "cell_type": "code",
   "execution_count": 287,
   "metadata": {
    "collapsed": false
   },
   "outputs": [
    {
     "data": {
      "text/plain": [
       "43201"
      ]
     },
     "execution_count": 287,
     "metadata": {},
     "output_type": "execute_result"
    }
   ],
   "source": [
    "len(testMerge)"
   ]
  },
  {
   "cell_type": "code",
   "execution_count": 260,
   "metadata": {
    "collapsed": false
   },
   "outputs": [],
   "source": [
    "testMerge = pd.merge(msa_2007, acs_2009, left_on = [3, 4], right_on = ['County', 'Geo_TRACT'])"
   ]
  },
  {
   "cell_type": "code",
   "execution_count": 261,
   "metadata": {
    "collapsed": true
   },
   "outputs": [],
   "source": [
    "Census_Tracts_Store = testMerge[[0, 1, 2, 3, 4]]"
   ]
  },
  {
   "cell_type": "code",
   "execution_count": 262,
   "metadata": {
    "collapsed": false
   },
   "outputs": [],
   "source": [
    "testMerge.drop(['Geo_TRACT', 'Geo_NAME', 'County', 'State', 0,1,2,3,4], axis = 1, inplace = True)"
   ]
  },
  {
   "cell_type": "code",
   "execution_count": 263,
   "metadata": {
    "collapsed": false
   },
   "outputs": [],
   "source": [
    "testMerge = testMerge.dropna()"
   ]
  },
  {
   "cell_type": "code",
   "execution_count": 264,
   "metadata": {
    "collapsed": false
   },
   "outputs": [],
   "source": [
    "X = testMerge.values"
   ]
  },
  {
   "cell_type": "code",
   "execution_count": 290,
   "metadata": {
    "collapsed": false
   },
   "outputs": [
    {
     "data": {
      "text/plain": [
       "array([[  1.98800000e+03,   1.95699997e+01,   5.33000000e+02, ...,\n",
       "          5.20000000e+01,   1.17000000e+05,   7.90000000e+02],\n",
       "       [  2.08200000e+03,   6.15000010e+00,   5.50000000e+02, ...,\n",
       "          4.20000000e+01,   1.83900000e+05,   8.75000000e+02],\n",
       "       [  3.83100000e+03,   9.21000004e+00,   7.21000000e+02, ...,\n",
       "          6.10000000e+01,   8.01000000e+04,   6.32000000e+02],\n",
       "       ..., \n",
       "       [  1.88200000e+03,   9.65500031e+01,   2.06000000e+02, ...,\n",
       "          4.30000000e+01,   5.98900000e+05,   1.13100000e+03],\n",
       "       [  7.32700000e+03,   9.29300003e+01,   1.00000000e+02, ...,\n",
       "          7.10000000e+01,   9.03800000e+05,   9.47000000e+02],\n",
       "       [  5.12900000e+03,   2.87600002e+01,   1.41000000e+03, ...,\n",
       "          1.70000000e+01,   2.46700000e+05,   1.01900000e+03]])"
      ]
     },
     "execution_count": 290,
     "metadata": {},
     "output_type": "execute_result"
    }
   ],
   "source": [
    "X"
   ]
  },
  {
   "cell_type": "markdown",
   "metadata": {},
   "source": [
    "####K-Means Clustering"
   ]
  },
  {
   "cell_type": "code",
   "execution_count": 123,
   "metadata": {
    "collapsed": false
   },
   "outputs": [],
   "source": [
    "from scipy.cluster.vq import kmeans,vq\n",
    "from scipy.spatial.distance import cdist\n",
    "from sklearn.cluster import KMeans\n",
    "from sklearn.preprocessing import scale\n",
    "from datetime import datetime\n",
    "import matplotlib.pyplot as plt"
   ]
  },
  {
   "cell_type": "code",
   "execution_count": 307,
   "metadata": {
    "collapsed": true
   },
   "outputs": [],
   "source": [
    "data = scale(X)"
   ]
  },
  {
   "cell_type": "code",
   "execution_count": 267,
   "metadata": {
    "collapsed": true
   },
   "outputs": [],
   "source": [
    "n_samples, n_features = data.shape"
   ]
  },
  {
   "cell_type": "code",
   "execution_count": 268,
   "metadata": {
    "collapsed": true
   },
   "outputs": [],
   "source": [
    "clusters = [2,3,4,5,6,7,8,9,10]"
   ]
  },
  {
   "cell_type": "code",
   "execution_count": 269,
   "metadata": {
    "collapsed": true
   },
   "outputs": [],
   "source": [
    "wss = []"
   ]
  },
  {
   "cell_type": "code",
   "execution_count": 270,
   "metadata": {
    "collapsed": false
   },
   "outputs": [
    {
     "name": "stdout",
     "output_type": "stream",
     "text": [
      "2015-07-28 21:58:28.364657\n",
      "[-154070.50179272 -107561.68797606  -89278.37208371  -53510.91135216\n",
      "  -53208.32274351  -37400.73658072  -31656.8095112   -29349.65860909]\n",
      "0:02:00.447844\n"
     ]
    }
   ],
   "source": [
    "startTime = datetime.now()\n",
    "print startTime\n",
    "for count in clusters: \n",
    "    estimator = KMeans(n_clusters = count)\n",
    "    estimator.fit(data)\n",
    "    wss_num = estimator.inertia_\n",
    "    wss.append(wss_num)\n",
    "    \n",
    "print np.diff(wss)\n",
    "print datetime.now() - startTime"
   ]
  },
  {
   "cell_type": "code",
   "execution_count": 147,
   "metadata": {
    "collapsed": true
   },
   "outputs": [],
   "source": [
    "from scipy import stats\n",
    "import numpy as np"
   ]
  },
  {
   "cell_type": "code",
   "execution_count": 144,
   "metadata": {
    "collapsed": true
   },
   "outputs": [],
   "source": [
    "x = [1,2,3,4]"
   ]
  },
  {
   "cell_type": "code",
   "execution_count": 155,
   "metadata": {
    "collapsed": false
   },
   "outputs": [],
   "source": [
    "y = wss[1:5]"
   ]
  },
  {
   "cell_type": "code",
   "execution_count": 156,
   "metadata": {
    "collapsed": false
   },
   "outputs": [],
   "source": [
    "slope, intercept, r_value, p_value, std_err = stats.linregress(x,y)"
   ]
  },
  {
   "cell_type": "code",
   "execution_count": 157,
   "metadata": {
    "collapsed": false
   },
   "outputs": [
    {
     "data": {
      "text/plain": [
       "-83453.072239825851"
      ]
     },
     "execution_count": 157,
     "metadata": {},
     "output_type": "execute_result"
    }
   ],
   "source": [
    "slope"
   ]
  },
  {
   "cell_type": "code",
   "execution_count": 305,
   "metadata": {
    "collapsed": false
   },
   "outputs": [
    {
     "data": {
      "text/plain": [
       "[<matplotlib.text.Text at 0x13bb62c10>,\n",
       " <matplotlib.text.Text at 0x13bb86e90>,\n",
       " <matplotlib.text.Text at 0x13bcb5a10>,\n",
       " <matplotlib.text.Text at 0x13bcbd1d0>,\n",
       " <matplotlib.text.Text at 0x13bcbd950>,\n",
       " <matplotlib.text.Text at 0x13bcc8110>,\n",
       " <matplotlib.text.Text at 0x13bcc8890>,\n",
       " <matplotlib.text.Text at 0x13bcd2050>]"
      ]
     },
     "execution_count": 305,
     "metadata": {},
     "output_type": "execute_result"
    },
    {
     "data": {
      "image/png": "[encoded data removed]",
      "text/plain": [
       "<matplotlib.figure.Figure at 0x13ba7dd10>"
      ]
     },
     "metadata": {},
     "output_type": "display_data"
    }
   ],
   "source": [
    "xlabels = ['2-3','3-4','4-5','5-6','6-7','7-8','8-9','9-10']\n",
    "fig, ax = plt.subplots(figsize = (10,5))\n",
    "plt.plot([3,4,5,6,7,8,9,10], np.diff(wss), '--o', markersize = 10)\n",
    "ax.set_title(\"Figure 2\\nDiff. Within Groups Sum of Squares\\n2 to 10 Clusters\")\n",
    "ax.set_ylabel(\"Diff. of Sum of Squares\")\n",
    "ax.set_xlabel(\"Clusters\")\n",
    "ax.set_xticklabels(xlabels)"
   ]
  },
  {
   "cell_type": "code",
   "execution_count": 273,
   "metadata": {
    "collapsed": false
   },
   "outputs": [
    {
     "data": {
      "text/plain": [
       "array([-154070.50179272, -107561.68797606,  -89278.37208371,\n",
       "        -53510.91135216,  -53208.32274351,  -37400.73658072,\n",
       "        -31656.8095112 ,  -29349.65860909])"
      ]
     },
     "execution_count": 273,
     "metadata": {},
     "output_type": "execute_result"
    }
   ],
   "source": [
    "np.diff(wss)"
   ]
  },
  {
   "cell_type": "code",
   "execution_count": 297,
   "metadata": {
    "collapsed": false
   },
   "outputs": [
    {
     "data": {
      "text/plain": [
       "<matplotlib.text.Text at 0x121386f10>"
      ]
     },
     "execution_count": 297,
     "metadata": {},
     "output_type": "execute_result"
    },
    {
     "data": {
      "image/png": "[encoded data removed]",
      "text/plain": [
       "<matplotlib.figure.Figure at 0x125a8ff10>"
      ]
     },
     "metadata": {},
     "output_type": "display_data"
    }
   ],
   "source": [
    "fig, ax = plt.subplots(figsize = (5,5))\n",
    "plt.plot([2,3,4,5,6,7,8,9,10], wss, '--o', markersize = 10)\n",
    "ax.set_title(\"Figure 1\\nWithin Groups Sum of Squares\\n2 to 10 Clusters\")\n",
    "ax.set_ylabel(\"Sum of Squares\")\n",
    "ax.set_xlabel(\"Clusters\")"
   ]
  },
  {
   "cell_type": "markdown",
   "metadata": {},
   "source": [
    "####Based on the elbow method, it appears 6 clusters might be the optimal amount to group by. "
   ]
  },
  {
   "cell_type": "code",
   "execution_count": 403,
   "metadata": {
    "collapsed": false
   },
   "outputs": [
    {
     "data": {
      "text/plain": [
       "KMeans(copy_x=True, init='k-means++', max_iter=300, n_clusters=5, n_init=10,\n",
       "    n_jobs=1, precompute_distances=True, random_state=None, tol=0.0001,\n",
       "    verbose=0)"
      ]
     },
     "execution_count": 403,
     "metadata": {},
     "output_type": "execute_result"
    }
   ],
   "source": [
    "estimator = KMeans(n_clusters = 5)\n",
    "estimator.fit(data)"
   ]
  },
  {
   "cell_type": "code",
   "execution_count": 404,
   "metadata": {
    "collapsed": true
   },
   "outputs": [],
   "source": [
    "centroids = pd.DataFrame(estimator.cluster_centers_)\n",
    "centroids_plot = pd.DataFrame(estimator.cluster_centers_)"
   ]
  },
  {
   "cell_type": "code",
   "execution_count": 412,
   "metadata": {
    "collapsed": false
   },
   "outputs": [
    {
     "data": {
      "text/plain": [
       "0    15163\n",
       "4    12221\n",
       "1     8010\n",
       "3     5766\n",
       "2     2041\n",
       "dtype: int64"
      ]
     },
     "execution_count": 412,
     "metadata": {},
     "output_type": "execute_result"
    }
   ],
   "source": [
    "pd.Series(estimator.labels_).value_counts()"
   ]
  },
  {
   "cell_type": "code",
   "execution_count": 381,
   "metadata": {
    "collapsed": false
   },
   "outputs": [
    {
     "data": {
      "text/plain": [
       "95.0"
      ]
     },
     "execution_count": 381,
     "metadata": {},
     "output_type": "execute_result"
    }
   ],
   "source": [
    "18.5 + 13.5 + 28 + 35\n",
    "# range(2,51)\n",
    "# 12221.0/43201"
   ]
  },
  {
   "cell_type": "markdown",
   "metadata": {},
   "source": [
    "####Plotting of Clusters"
   ]
  },
  {
   "cell_type": "code",
   "execution_count": 411,
   "metadata": {
    "collapsed": false
   },
   "outputs": [
    {
     "data": {
      "text/plain": [
       "<matplotlib.text.Text at 0x126c87450>"
      ]
     },
     "execution_count": 411,
     "metadata": {},
     "output_type": "execute_result"
    },
    {
     "data": {
      "image/png": "[encoded data removed]",
      "text/plain": [
       "<matplotlib.figure.Figure at 0x113ba1690>"
      ]
     },
     "metadata": {},
     "output_type": "display_data"
    }
   ],
   "source": [
    "legend = ['Cluster 1', 'Cluster 2', 'Cluster 3', 'Cluster 4', 'Cluster 5']\n",
    "fig, ax = plt.subplots(figsize = (16,5))\n",
    "\n",
    "ax.plot(centroids_plot.transpose(), '-o')\n",
    "# ax.set_title(\"Cluster Centers\\n\")\n",
    "ax.set_xticks(range(0,50)) \n",
    "ax.set_xticklabels(labels1, rotation=90)\n",
    "ax.grid(b=True, which='major', linestyle='--')\n",
    "ax.legend(legend, loc = 'upper right', ncol = 2)\n",
    "ax.set_title(\"Figure 3\\nCluster Centers\")\n",
    "ax.set_ylabel(\"z-score\")\n",
    "ax.set_xlabel(\"Feature\")"
   ]
  },
  {
   "cell_type": "code",
   "execution_count": 414,
   "metadata": {
    "collapsed": false
   },
   "outputs": [],
   "source": [
    "# for col in centroids.columns:\n",
    "#     centroids[col] = centroids[col].apply(lambda x: (x * nyc_rac_grouped[col].std()) + nyc_rac_grouped[col].mean())\n",
    "centroids.columns = testMerge.columns"
   ]
  },
  {
   "cell_type": "code",
   "execution_count": 415,
   "metadata": {
    "collapsed": false
   },
   "outputs": [],
   "source": [
    "for col in centroids:\n",
    "    centroids[col] = centroids[col].apply(lambda x: (x * testMerge[col].std()) + testMerge[col].mean())"
   ]
  },
  {
   "cell_type": "code",
   "execution_count": 416,
   "metadata": {
    "collapsed": false
   },
   "outputs": [],
   "source": [
    "centroids.columns = labels1"
   ]
  },
  {
   "cell_type": "code",
   "execution_count": 421,
   "metadata": {
    "collapsed": false
   },
   "outputs": [],
   "source": [
    "final = centroids.transpose()\n",
    "final.columns = [1,2,3,4,5]"
   ]
  },
  {
   "cell_type": "code",
   "execution_count": 422,
   "metadata": {
    "collapsed": false
   },
   "outputs": [
    {
     "data": {
      "text/html": [
       "<div style=\"max-height:1000px;max-width:1500px;overflow:auto;\">\n",
       "<table border=\"1\" class=\"dataframe\">\n",
       "  <thead>\n",
       "    <tr style=\"text-align: right;\">\n",
       "      <th></th>\n",
       "      <th>1</th>\n",
       "      <th>2</th>\n",
       "      <th>3</th>\n",
       "      <th>4</th>\n",
       "      <th>5</th>\n",
       "    </tr>\n",
       "  </thead>\n",
       "  <tbody>\n",
       "    <tr>\n",
       "      <th>census_tract_pop</th>\n",
       "      <td>3437.838660</td>\n",
       "      <td>3350.175557</td>\n",
       "      <td>5884.622402</td>\n",
       "      <td>3973.660460</td>\n",
       "      <td>5299.420150</td>\n",
       "    </tr>\n",
       "    <tr>\n",
       "      <th>census_tract_min_pop</th>\n",
       "      <td>20.281262</td>\n",
       "      <td>77.377257</td>\n",
       "      <td>37.440327</td>\n",
       "      <td>32.964354</td>\n",
       "      <td>26.126048</td>\n",
       "    </tr>\n",
       "    <tr>\n",
       "      <th>owner_occupied</th>\n",
       "      <td>869.614595</td>\n",
       "      <td>492.109293</td>\n",
       "      <td>1576.831337</td>\n",
       "      <td>920.410694</td>\n",
       "      <td>1416.051112</td>\n",
       "    </tr>\n",
       "    <tr>\n",
       "      <th>msa_median_inc</th>\n",
       "      <td>59787.968627</td>\n",
       "      <td>58832.687960</td>\n",
       "      <td>64368.219807</td>\n",
       "      <td>73376.518321</td>\n",
       "      <td>63948.159716</td>\n",
       "    </tr>\n",
       "    <tr>\n",
       "      <th>loan_amount</th>\n",
       "      <td>134.683029</td>\n",
       "      <td>141.950340</td>\n",
       "      <td>203.179088</td>\n",
       "      <td>426.923381</td>\n",
       "      <td>179.959721</td>\n",
       "    </tr>\n",
       "    <tr>\n",
       "      <th>application_income</th>\n",
       "      <td>81.920229</td>\n",
       "      <td>79.523934</td>\n",
       "      <td>101.261706</td>\n",
       "      <td>204.808571</td>\n",
       "      <td>93.540491</td>\n",
       "    </tr>\n",
       "    <tr>\n",
       "      <th>debt/income_ratio</th>\n",
       "      <td>2.078668</td>\n",
       "      <td>2.227679</td>\n",
       "      <td>2.592011</td>\n",
       "      <td>2.844226</td>\n",
       "      <td>2.412257</td>\n",
       "    </tr>\n",
       "    <tr>\n",
       "      <th>mortgage_count</th>\n",
       "      <td>220.062012</td>\n",
       "      <td>171.100571</td>\n",
       "      <td>981.888524</td>\n",
       "      <td>250.439111</td>\n",
       "      <td>487.490856</td>\n",
       "    </tr>\n",
       "    <tr>\n",
       "      <th>one_to_four_family_homes</th>\n",
       "      <td>1196.880068</td>\n",
       "      <td>948.726648</td>\n",
       "      <td>1991.860399</td>\n",
       "      <td>1139.503244</td>\n",
       "      <td>1808.352614</td>\n",
       "    </tr>\n",
       "    <tr>\n",
       "      <th>owner-occupied_as_a_principal dwelling</th>\n",
       "      <td>199.814030</td>\n",
       "      <td>140.416927</td>\n",
       "      <td>890.147495</td>\n",
       "      <td>230.250888</td>\n",
       "      <td>448.632649</td>\n",
       "    </tr>\n",
       "    <tr>\n",
       "      <th>not_owner-occupied_as_a_principal dwelling</th>\n",
       "      <td>19.807833</td>\n",
       "      <td>30.267541</td>\n",
       "      <td>90.223134</td>\n",
       "      <td>20.014796</td>\n",
       "      <td>38.055568</td>\n",
       "    </tr>\n",
       "    <tr>\n",
       "      <th>owner-occupancy_NA</th>\n",
       "      <td>0.440149</td>\n",
       "      <td>0.416103</td>\n",
       "      <td>1.517895</td>\n",
       "      <td>0.173426</td>\n",
       "      <td>0.802638</td>\n",
       "    </tr>\n",
       "    <tr>\n",
       "      <th>refinancing</th>\n",
       "      <td>114.980281</td>\n",
       "      <td>93.582048</td>\n",
       "      <td>525.784529</td>\n",
       "      <td>136.531435</td>\n",
       "      <td>271.801515</td>\n",
       "    </tr>\n",
       "    <tr>\n",
       "      <th>home_purchases</th>\n",
       "      <td>80.148164</td>\n",
       "      <td>56.264845</td>\n",
       "      <td>376.382233</td>\n",
       "      <td>94.926735</td>\n",
       "      <td>168.205409</td>\n",
       "    </tr>\n",
       "    <tr>\n",
       "      <th>loan_purpose_NA</th>\n",
       "      <td>24.933568</td>\n",
       "      <td>21.253678</td>\n",
       "      <td>79.721763</td>\n",
       "      <td>18.980940</td>\n",
       "      <td>47.483932</td>\n",
       "    </tr>\n",
       "    <tr>\n",
       "      <th>male_applicants</th>\n",
       "      <td>133.506792</td>\n",
       "      <td>88.827878</td>\n",
       "      <td>576.381698</td>\n",
       "      <td>151.308219</td>\n",
       "      <td>292.215529</td>\n",
       "    </tr>\n",
       "    <tr>\n",
       "      <th>female_applicants</th>\n",
       "      <td>86.555220</td>\n",
       "      <td>82.272693</td>\n",
       "      <td>405.506826</td>\n",
       "      <td>99.130892</td>\n",
       "      <td>195.275327</td>\n",
       "    </tr>\n",
       "    <tr>\n",
       "      <th>white_applicants</th>\n",
       "      <td>168.557524</td>\n",
       "      <td>67.486925</td>\n",
       "      <td>572.663123</td>\n",
       "      <td>156.644652</td>\n",
       "      <td>339.317445</td>\n",
       "    </tr>\n",
       "    <tr>\n",
       "      <th>black_applicants</th>\n",
       "      <td>11.790977</td>\n",
       "      <td>65.152386</td>\n",
       "      <td>161.509036</td>\n",
       "      <td>9.159755</td>\n",
       "      <td>41.969782</td>\n",
       "    </tr>\n",
       "    <tr>\n",
       "      <th>asian_applicants</th>\n",
       "      <td>3.617528</td>\n",
       "      <td>3.749720</td>\n",
       "      <td>40.772017</td>\n",
       "      <td>29.359205</td>\n",
       "      <td>13.869348</td>\n",
       "    </tr>\n",
       "    <tr>\n",
       "      <th>other_race_applications</th>\n",
       "      <td>36.095983</td>\n",
       "      <td>34.711540</td>\n",
       "      <td>206.944348</td>\n",
       "      <td>55.275499</td>\n",
       "      <td>92.334280</td>\n",
       "    </tr>\n",
       "    <tr>\n",
       "      <th>loan_originated</th>\n",
       "      <td>97.655344</td>\n",
       "      <td>56.170717</td>\n",
       "      <td>387.682953</td>\n",
       "      <td>118.929197</td>\n",
       "      <td>207.793136</td>\n",
       "    </tr>\n",
       "    <tr>\n",
       "      <th>application_denied</th>\n",
       "      <td>53.066097</td>\n",
       "      <td>60.931612</td>\n",
       "      <td>244.259125</td>\n",
       "      <td>46.983660</td>\n",
       "      <td>114.814736</td>\n",
       "    </tr>\n",
       "    <tr>\n",
       "      <th>loan_purchased_by_the_institution</th>\n",
       "      <td>27.647516</td>\n",
       "      <td>16.549131</td>\n",
       "      <td>144.637138</td>\n",
       "      <td>33.005086</td>\n",
       "      <td>67.553102</td>\n",
       "    </tr>\n",
       "    <tr>\n",
       "      <th>application_withdrawn</th>\n",
       "      <td>19.640123</td>\n",
       "      <td>17.514712</td>\n",
       "      <td>95.921880</td>\n",
       "      <td>20.067696</td>\n",
       "      <td>44.697740</td>\n",
       "    </tr>\n",
       "    <tr>\n",
       "      <th>application_approved_not_accepted</th>\n",
       "      <td>15.918966</td>\n",
       "      <td>13.688000</td>\n",
       "      <td>77.896243</td>\n",
       "      <td>24.371819</td>\n",
       "      <td>37.806620</td>\n",
       "    </tr>\n",
       "    <tr>\n",
       "      <th>preapproval_denied</th>\n",
       "      <td>0.032513</td>\n",
       "      <td>0.028839</td>\n",
       "      <td>0.150908</td>\n",
       "      <td>0.026881</td>\n",
       "      <td>0.092873</td>\n",
       "    </tr>\n",
       "    <tr>\n",
       "      <th>preapproval_accepted_not_accepted</th>\n",
       "      <td>0.005276</td>\n",
       "      <td>0.001997</td>\n",
       "      <td>0.013229</td>\n",
       "      <td>0.001908</td>\n",
       "      <td>0.010883</td>\n",
       "    </tr>\n",
       "    <tr>\n",
       "      <th>loan_origination_NA</th>\n",
       "      <td>6.096177</td>\n",
       "      <td>6.215563</td>\n",
       "      <td>31.327049</td>\n",
       "      <td>7.052864</td>\n",
       "      <td>14.721765</td>\n",
       "    </tr>\n",
       "    <tr>\n",
       "      <th>white_alone</th>\n",
       "      <td>0.841274</td>\n",
       "      <td>0.332301</td>\n",
       "      <td>0.647446</td>\n",
       "      <td>0.710811</td>\n",
       "      <td>0.773158</td>\n",
       "    </tr>\n",
       "    <tr>\n",
       "      <th>black_alone</th>\n",
       "      <td>0.070427</td>\n",
       "      <td>0.495282</td>\n",
       "      <td>0.206217</td>\n",
       "      <td>0.044028</td>\n",
       "      <td>0.104243</td>\n",
       "    </tr>\n",
       "    <tr>\n",
       "      <th>american_indian</th>\n",
       "      <td>0.006515</td>\n",
       "      <td>0.006596</td>\n",
       "      <td>0.005642</td>\n",
       "      <td>0.003306</td>\n",
       "      <td>0.005594</td>\n",
       "    </tr>\n",
       "    <tr>\n",
       "      <th>asian_alone</th>\n",
       "      <td>0.023935</td>\n",
       "      <td>0.026609</td>\n",
       "      <td>0.052111</td>\n",
       "      <td>0.155185</td>\n",
       "      <td>0.037820</td>\n",
       "    </tr>\n",
       "    <tr>\n",
       "      <th>native_hawaiian</th>\n",
       "      <td>0.000799</td>\n",
       "      <td>0.000901</td>\n",
       "      <td>0.002202</td>\n",
       "      <td>0.003599</td>\n",
       "      <td>0.001403</td>\n",
       "    </tr>\n",
       "    <tr>\n",
       "      <th>some_other_race</th>\n",
       "      <td>0.034849</td>\n",
       "      <td>0.110263</td>\n",
       "      <td>0.057848</td>\n",
       "      <td>0.053656</td>\n",
       "      <td>0.053663</td>\n",
       "    </tr>\n",
       "    <tr>\n",
       "      <th>two_other_race</th>\n",
       "      <td>0.022200</td>\n",
       "      <td>0.028048</td>\n",
       "      <td>0.028534</td>\n",
       "      <td>0.029415</td>\n",
       "      <td>0.024119</td>\n",
       "    </tr>\n",
       "    <tr>\n",
       "      <th>employed</th>\n",
       "      <td>0.925820</td>\n",
       "      <td>0.836636</td>\n",
       "      <td>0.916000</td>\n",
       "      <td>0.941312</td>\n",
       "      <td>0.922996</td>\n",
       "    </tr>\n",
       "    <tr>\n",
       "      <th>unemployed</th>\n",
       "      <td>0.074180</td>\n",
       "      <td>0.163364</td>\n",
       "      <td>0.084000</td>\n",
       "      <td>0.058688</td>\n",
       "      <td>0.077004</td>\n",
       "    </tr>\n",
       "    <tr>\n",
       "      <th>median_household_income</th>\n",
       "      <td>49341.983974</td>\n",
       "      <td>29860.994495</td>\n",
       "      <td>64360.503521</td>\n",
       "      <td>91287.692645</td>\n",
       "      <td>60176.414010</td>\n",
       "    </tr>\n",
       "    <tr>\n",
       "      <th>per_capita_income</th>\n",
       "      <td>25622.570425</td>\n",
       "      <td>15278.384211</td>\n",
       "      <td>27561.626706</td>\n",
       "      <td>48263.210106</td>\n",
       "      <td>27935.739836</td>\n",
       "    </tr>\n",
       "    <tr>\n",
       "      <th>gini_index</th>\n",
       "      <td>0.408248</td>\n",
       "      <td>0.447293</td>\n",
       "      <td>0.377536</td>\n",
       "      <td>0.436524</td>\n",
       "      <td>0.392787</td>\n",
       "    </tr>\n",
       "    <tr>\n",
       "      <th>housing_units</th>\n",
       "      <td>1576.526328</td>\n",
       "      <td>1356.340979</td>\n",
       "      <td>2910.980808</td>\n",
       "      <td>1693.428671</td>\n",
       "      <td>2294.730668</td>\n",
       "    </tr>\n",
       "    <tr>\n",
       "      <th>housing_occupied</th>\n",
       "      <td>0.900538</td>\n",
       "      <td>0.821862</td>\n",
       "      <td>0.901598</td>\n",
       "      <td>0.924194</td>\n",
       "      <td>0.915624</td>\n",
       "    </tr>\n",
       "    <tr>\n",
       "      <th>housing_unoccupied</th>\n",
       "      <td>0.099462</td>\n",
       "      <td>0.178138</td>\n",
       "      <td>0.098402</td>\n",
       "      <td>0.075806</td>\n",
       "      <td>0.084376</td>\n",
       "    </tr>\n",
       "    <tr>\n",
       "      <th>housing_for_rent</th>\n",
       "      <td>0.261390</td>\n",
       "      <td>0.321834</td>\n",
       "      <td>0.201738</td>\n",
       "      <td>0.215593</td>\n",
       "      <td>0.234293</td>\n",
       "    </tr>\n",
       "    <tr>\n",
       "      <th>housing_for_sale</th>\n",
       "      <td>0.149846</td>\n",
       "      <td>0.095158</td>\n",
       "      <td>0.247904</td>\n",
       "      <td>0.164005</td>\n",
       "      <td>0.203619</td>\n",
       "    </tr>\n",
       "    <tr>\n",
       "      <th>housing_other_vacant</th>\n",
       "      <td>0.588764</td>\n",
       "      <td>0.583008</td>\n",
       "      <td>0.550358</td>\n",
       "      <td>0.620402</td>\n",
       "      <td>0.562087</td>\n",
       "    </tr>\n",
       "    <tr>\n",
       "      <th>median_year_built</th>\n",
       "      <td>44.892182</td>\n",
       "      <td>54.014597</td>\n",
       "      <td>27.204117</td>\n",
       "      <td>48.096474</td>\n",
       "      <td>37.318881</td>\n",
       "    </tr>\n",
       "    <tr>\n",
       "      <th>median_value_house</th>\n",
       "      <td>174641.467930</td>\n",
       "      <td>169209.263673</td>\n",
       "      <td>252648.302190</td>\n",
       "      <td>611570.913460</td>\n",
       "      <td>237357.101299</td>\n",
       "    </tr>\n",
       "    <tr>\n",
       "      <th>median_gross_rent</th>\n",
       "      <td>782.685545</td>\n",
       "      <td>735.910664</td>\n",
       "      <td>1106.149077</td>\n",
       "      <td>1428.398119</td>\n",
       "      <td>959.769073</td>\n",
       "    </tr>\n",
       "  </tbody>\n",
       "</table>\n",
       "</div>"
      ],
      "text/plain": [
       "                                                        1              2  \\\n",
       "census_tract_pop                              3437.838660    3350.175557   \n",
       "census_tract_min_pop                            20.281262      77.377257   \n",
       "owner_occupied                                 869.614595     492.109293   \n",
       "msa_median_inc                               59787.968627   58832.687960   \n",
       "loan_amount                                    134.683029     141.950340   \n",
       "application_income                              81.920229      79.523934   \n",
       "debt/income_ratio                                2.078668       2.227679   \n",
       "mortgage_count                                 220.062012     171.100571   \n",
       "one_to_four_family_homes                      1196.880068     948.726648   \n",
       "owner-occupied_as_a_principal dwelling         199.814030     140.416927   \n",
       "not_owner-occupied_as_a_principal dwelling      19.807833      30.267541   \n",
       "owner-occupancy_NA                               0.440149       0.416103   \n",
       "refinancing                                    114.980281      93.582048   \n",
       "home_purchases                                  80.148164      56.264845   \n",
       "loan_purpose_NA                                 24.933568      21.253678   \n",
       "male_applicants                                133.506792      88.827878   \n",
       "female_applicants                               86.555220      82.272693   \n",
       "white_applicants                               168.557524      67.486925   \n",
       "black_applicants                                11.790977      65.152386   \n",
       "asian_applicants                                 3.617528       3.749720   \n",
       "other_race_applications                         36.095983      34.711540   \n",
       "loan_originated                                 97.655344      56.170717   \n",
       "application_denied                              53.066097      60.931612   \n",
       "loan_purchased_by_the_institution               27.647516      16.549131   \n",
       "application_withdrawn                           19.640123      17.514712   \n",
       "application_approved_not_accepted               15.918966      13.688000   \n",
       "preapproval_denied                               0.032513       0.028839   \n",
       "preapproval_accepted_not_accepted                0.005276       0.001997   \n",
       "loan_origination_NA                              6.096177       6.215563   \n",
       "white_alone                                      0.841274       0.332301   \n",
       "black_alone                                      0.070427       0.495282   \n",
       "american_indian                                  0.006515       0.006596   \n",
       "asian_alone                                      0.023935       0.026609   \n",
       "native_hawaiian                                  0.000799       0.000901   \n",
       "some_other_race                                  0.034849       0.110263   \n",
       "two_other_race                                   0.022200       0.028048   \n",
       "employed                                         0.925820       0.836636   \n",
       "unemployed                                       0.074180       0.163364   \n",
       "median_household_income                      49341.983974   29860.994495   \n",
       "per_capita_income                            25622.570425   15278.384211   \n",
       "gini_index                                       0.408248       0.447293   \n",
       "housing_units                                 1576.526328    1356.340979   \n",
       "housing_occupied                                 0.900538       0.821862   \n",
       "housing_unoccupied                               0.099462       0.178138   \n",
       "housing_for_rent                                 0.261390       0.321834   \n",
       "housing_for_sale                                 0.149846       0.095158   \n",
       "housing_other_vacant                             0.588764       0.583008   \n",
       "median_year_built                               44.892182      54.014597   \n",
       "median_value_house                          174641.467930  169209.263673   \n",
       "median_gross_rent                              782.685545     735.910664   \n",
       "\n",
       "                                                        3              4  \\\n",
       "census_tract_pop                              5884.622402    3973.660460   \n",
       "census_tract_min_pop                            37.440327      32.964354   \n",
       "owner_occupied                                1576.831337     920.410694   \n",
       "msa_median_inc                               64368.219807   73376.518321   \n",
       "loan_amount                                    203.179088     426.923381   \n",
       "application_income                             101.261706     204.808571   \n",
       "debt/income_ratio                                2.592011       2.844226   \n",
       "mortgage_count                                 981.888524     250.439111   \n",
       "one_to_four_family_homes                      1991.860399    1139.503244   \n",
       "owner-occupied_as_a_principal dwelling         890.147495     230.250888   \n",
       "not_owner-occupied_as_a_principal dwelling      90.223134      20.014796   \n",
       "owner-occupancy_NA                               1.517895       0.173426   \n",
       "refinancing                                    525.784529     136.531435   \n",
       "home_purchases                                 376.382233      94.926735   \n",
       "loan_purpose_NA                                 79.721763      18.980940   \n",
       "male_applicants                                576.381698     151.308219   \n",
       "female_applicants                              405.506826      99.130892   \n",
       "white_applicants                               572.663123     156.644652   \n",
       "black_applicants                               161.509036       9.159755   \n",
       "asian_applicants                                40.772017      29.359205   \n",
       "other_race_applications                        206.944348      55.275499   \n",
       "loan_originated                                387.682953     118.929197   \n",
       "application_denied                             244.259125      46.983660   \n",
       "loan_purchased_by_the_institution              144.637138      33.005086   \n",
       "application_withdrawn                           95.921880      20.067696   \n",
       "application_approved_not_accepted               77.896243      24.371819   \n",
       "preapproval_denied                               0.150908       0.026881   \n",
       "preapproval_accepted_not_accepted                0.013229       0.001908   \n",
       "loan_origination_NA                             31.327049       7.052864   \n",
       "white_alone                                      0.647446       0.710811   \n",
       "black_alone                                      0.206217       0.044028   \n",
       "american_indian                                  0.005642       0.003306   \n",
       "asian_alone                                      0.052111       0.155185   \n",
       "native_hawaiian                                  0.002202       0.003599   \n",
       "some_other_race                                  0.057848       0.053656   \n",
       "two_other_race                                   0.028534       0.029415   \n",
       "employed                                         0.916000       0.941312   \n",
       "unemployed                                       0.084000       0.058688   \n",
       "median_household_income                      64360.503521   91287.692645   \n",
       "per_capita_income                            27561.626706   48263.210106   \n",
       "gini_index                                       0.377536       0.436524   \n",
       "housing_units                                 2910.980808    1693.428671   \n",
       "housing_occupied                                 0.901598       0.924194   \n",
       "housing_unoccupied                               0.098402       0.075806   \n",
       "housing_for_rent                                 0.201738       0.215593   \n",
       "housing_for_sale                                 0.247904       0.164005   \n",
       "housing_other_vacant                             0.550358       0.620402   \n",
       "median_year_built                               27.204117      48.096474   \n",
       "median_value_house                          252648.302190  611570.913460   \n",
       "median_gross_rent                             1106.149077    1428.398119   \n",
       "\n",
       "                                                        5  \n",
       "census_tract_pop                              5299.420150  \n",
       "census_tract_min_pop                            26.126048  \n",
       "owner_occupied                                1416.051112  \n",
       "msa_median_inc                               63948.159716  \n",
       "loan_amount                                    179.959721  \n",
       "application_income                              93.540491  \n",
       "debt/income_ratio                                2.412257  \n",
       "mortgage_count                                 487.490856  \n",
       "one_to_four_family_homes                      1808.352614  \n",
       "owner-occupied_as_a_principal dwelling         448.632649  \n",
       "not_owner-occupied_as_a_principal dwelling      38.055568  \n",
       "owner-occupancy_NA                               0.802638  \n",
       "refinancing                                    271.801515  \n",
       "home_purchases                                 168.205409  \n",
       "loan_purpose_NA                                 47.483932  \n",
       "male_applicants                                292.215529  \n",
       "female_applicants                              195.275327  \n",
       "white_applicants                               339.317445  \n",
       "black_applicants                                41.969782  \n",
       "asian_applicants                                13.869348  \n",
       "other_race_applications                         92.334280  \n",
       "loan_originated                                207.793136  \n",
       "application_denied                             114.814736  \n",
       "loan_purchased_by_the_institution               67.553102  \n",
       "application_withdrawn                           44.697740  \n",
       "application_approved_not_accepted               37.806620  \n",
       "preapproval_denied                               0.092873  \n",
       "preapproval_accepted_not_accepted                0.010883  \n",
       "loan_origination_NA                             14.721765  \n",
       "white_alone                                      0.773158  \n",
       "black_alone                                      0.104243  \n",
       "american_indian                                  0.005594  \n",
       "asian_alone                                      0.037820  \n",
       "native_hawaiian                                  0.001403  \n",
       "some_other_race                                  0.053663  \n",
       "two_other_race                                   0.024119  \n",
       "employed                                         0.922996  \n",
       "unemployed                                       0.077004  \n",
       "median_household_income                      60176.414010  \n",
       "per_capita_income                            27935.739836  \n",
       "gini_index                                       0.392787  \n",
       "housing_units                                 2294.730668  \n",
       "housing_occupied                                 0.915624  \n",
       "housing_unoccupied                               0.084376  \n",
       "housing_for_rent                                 0.234293  \n",
       "housing_for_sale                                 0.203619  \n",
       "housing_other_vacant                             0.562087  \n",
       "median_year_built                               37.318881  \n",
       "median_value_house                          237357.101299  \n",
       "median_gross_rent                              959.769073  "
      ]
     },
     "execution_count": 422,
     "metadata": {},
     "output_type": "execute_result"
    }
   ],
   "source": [
    "final"
   ]
  },
  {
   "cell_type": "code",
   "execution_count": 407,
   "metadata": {
    "collapsed": false
   },
   "outputs": [
    {
     "data": {
      "text/plain": [
       "35.024448507350712"
      ]
     },
     "execution_count": 407,
     "metadata": {},
     "output_type": "execute_result"
    }
   ],
   "source": [
    "testMerge[6].mean()\n"
   ]
  },
  {
   "cell_type": "code",
   "execution_count": 408,
   "metadata": {
    "collapsed": false
   },
   "outputs": [
    {
     "data": {
      "text/plain": [
       "31.861469703703285"
      ]
     },
     "execution_count": 408,
     "metadata": {},
     "output_type": "execute_result"
    }
   ],
   "source": [
    "testMerge[6].std()"
   ]
  },
  {
   "cell_type": "code",
   "execution_count": 409,
   "metadata": {
    "collapsed": false
   },
   "outputs": [
    {
     "data": {
      "text/plain": [
       "77.377262955089407"
      ]
     },
     "execution_count": 409,
     "metadata": {},
     "output_type": "execute_result"
    }
   ],
   "source": [
    "(1.329280 * testMerge[6].std()) + testMerge[6].mean()"
   ]
  },
  {
   "cell_type": "code",
   "execution_count": 372,
   "metadata": {
    "collapsed": false
   },
   "outputs": [],
   "source": [
    "labels1 = ['census_tract_pop', 'census_tract_min_pop', \\\n",
    "               'owner_occupied', 'msa_median_inc', 'loan_amount', 'application_income', 'debt/income_ratio', \\\n",
    "               'mortgage_count', 'one_to_four_family_homes', \\\n",
    "               'owner-occupied_as_a_principal dwelling', 'not_owner-occupied_as_a_principal dwelling', \\\n",
    "               'owner-occupancy_NA', 'refinancing', 'home_purchases', 'loan_purpose_NA', 'male_applicants', \n",
    "               'female_applicants', \\\n",
    "               'white_applicants', 'black_applicants', 'asian_applicants', 'other_race_applications', \\\n",
    "               'loan_originated', 'application_denied', \\\n",
    "               'loan_purchased_by_the_institution', 'application_withdrawn', 'application_approved_not_accepted', \\\n",
    "               'preapproval_denied', 'preapproval_accepted_not_accepted', 'loan_origination_NA', \n",
    "               'white_alone', \\\n",
    "               'black_alone', \n",
    "               'american_indian', \n",
    "               'asian_alone', \n",
    "               'native_hawaiian', \n",
    "               'some_other_race', \n",
    "               'two_other_race', \\\n",
    "               'employed', \n",
    "               'unemployed', \n",
    "               'median_household_income', \n",
    "               'per_capita_income', \n",
    "               'gini_index', \n",
    "               'housing_units', \\\n",
    "               'housing_occupied', \n",
    "               'housing_unoccupied', \n",
    "               'housing_for_rent', \n",
    "               'housing_for_sale', \n",
    "               'housing_other_vacant', \n",
    "               'median_year_built', \\\n",
    "               'median_value_house', \n",
    "               'median_gross_rent']"
   ]
  },
  {
   "cell_type": "code",
   "execution_count": 184,
   "metadata": {
    "collapsed": false
   },
   "outputs": [
    {
     "data": {
      "text/plain": [
       "Index([u'Geo_NAME', u'Geo_TRACT', u'SE_T013_002', u'SE_T013_003', u'SE_T013_004', u'SE_T013_005', u'SE_T013_006', u'SE_T013_007', u'SE_T013_008', u'SE_T037_002', u'SE_T037_003', u'SE_T057_001', u'SE_T083_001', u'SE_T146_001', u'SE_T093_001', u'SE_T095_002', u'SE_T095_003', u'SE_T096_002', u'SE_T096_003', u'SE_T096_004', u'SE_T098_001', u'SE_T101_001', u'SE_T104_001', u'County', u'State'], dtype='object')"
      ]
     },
     "execution_count": 184,
     "metadata": {},
     "output_type": "execute_result"
    }
   ],
   "source": [
    "acs_2009.head().columns"
   ]
  },
  {
   "cell_type": "code",
   "execution_count": 413,
   "metadata": {
    "collapsed": false
   },
   "outputs": [
    {
     "data": {
      "text/html": [
       "<div style=\"max-height:1000px;max-width:1500px;overflow:auto;\">\n",
       "<table border=\"1\" class=\"dataframe\">\n",
       "  <thead>\n",
       "    <tr style=\"text-align: right;\">\n",
       "      <th></th>\n",
       "      <th>0</th>\n",
       "      <th>1</th>\n",
       "      <th>2</th>\n",
       "      <th>3</th>\n",
       "      <th>4</th>\n",
       "    </tr>\n",
       "  </thead>\n",
       "  <tbody>\n",
       "    <tr>\n",
       "      <th>0</th>\n",
       "      <td>-0.436368</td>\n",
       "      <td>-0.491214</td>\n",
       "      <td>1.094436</td>\n",
       "      <td>-0.101137</td>\n",
       "      <td>0.728311</td>\n",
       "    </tr>\n",
       "    <tr>\n",
       "      <th>1</th>\n",
       "      <td>-0.462728</td>\n",
       "      <td>1.329280</td>\n",
       "      <td>0.075824</td>\n",
       "      <td>-0.064658</td>\n",
       "      <td>-0.279284</td>\n",
       "    </tr>\n",
       "    <tr>\n",
       "      <th>2</th>\n",
       "      <td>-0.235614</td>\n",
       "      <td>-0.948449</td>\n",
       "      <td>1.099807</td>\n",
       "      <td>-0.139697</td>\n",
       "      <td>0.796209</td>\n",
       "    </tr>\n",
       "    <tr>\n",
       "      <th>3</th>\n",
       "      <td>-0.243898</td>\n",
       "      <td>-0.320798</td>\n",
       "      <td>0.124813</td>\n",
       "      <td>0.849982</td>\n",
       "      <td>0.090998</td>\n",
       "    </tr>\n",
       "    <tr>\n",
       "      <th>4</th>\n",
       "      <td>-0.394368</td>\n",
       "      <td>-0.343549</td>\n",
       "      <td>0.084607</td>\n",
       "      <td>1.649192</td>\n",
       "      <td>-0.077760</td>\n",
       "    </tr>\n",
       "    <tr>\n",
       "      <th>5</th>\n",
       "      <td>-0.290715</td>\n",
       "      <td>-0.325274</td>\n",
       "      <td>-0.011783</td>\n",
       "      <td>1.481517</td>\n",
       "      <td>-0.123134</td>\n",
       "    </tr>\n",
       "    <tr>\n",
       "      <th>6</th>\n",
       "      <td>-0.376021</td>\n",
       "      <td>-0.150476</td>\n",
       "      <td>0.400977</td>\n",
       "      <td>0.782731</td>\n",
       "      <td>0.128901</td>\n",
       "    </tr>\n",
       "    <tr>\n",
       "      <th>7</th>\n",
       "      <td>-0.464031</td>\n",
       "      <td>-0.677120</td>\n",
       "      <td>2.851574</td>\n",
       "      <td>-0.331825</td>\n",
       "      <td>0.699867</td>\n",
       "    </tr>\n",
       "    <tr>\n",
       "      <th>8</th>\n",
       "      <td>-0.260773</td>\n",
       "      <td>-0.673298</td>\n",
       "      <td>1.060786</td>\n",
       "      <td>-0.356155</td>\n",
       "      <td>0.755727</td>\n",
       "    </tr>\n",
       "    <tr>\n",
       "      <th>9</th>\n",
       "      <td>-0.450725</td>\n",
       "      <td>-0.729448</td>\n",
       "      <td>2.788694</td>\n",
       "      <td>-0.307898</td>\n",
       "      <td>0.716867</td>\n",
       "    </tr>\n",
       "    <tr>\n",
       "      <th>10</th>\n",
       "      <td>-0.299602</td>\n",
       "      <td>0.000113</td>\n",
       "      <td>1.718098</td>\n",
       "      <td>-0.293672</td>\n",
       "      <td>0.223274</td>\n",
       "    </tr>\n",
       "    <tr>\n",
       "      <th>11</th>\n",
       "      <td>-0.080688</td>\n",
       "      <td>-0.097797</td>\n",
       "      <td>0.686146</td>\n",
       "      <td>-0.270466</td>\n",
       "      <td>0.177229</td>\n",
       "    </tr>\n",
       "    <tr>\n",
       "      <th>12</th>\n",
       "      <td>-0.475001</td>\n",
       "      <td>-0.637161</td>\n",
       "      <td>2.638162</td>\n",
       "      <td>-0.311681</td>\n",
       "      <td>0.713424</td>\n",
       "    </tr>\n",
       "    <tr>\n",
       "      <th>13</th>\n",
       "      <td>-0.355574</td>\n",
       "      <td>-0.588559</td>\n",
       "      <td>2.534236</td>\n",
       "      <td>-0.211407</td>\n",
       "      <td>0.503438</td>\n",
       "    </tr>\n",
       "    <tr>\n",
       "      <th>14</th>\n",
       "      <td>-0.330511</td>\n",
       "      <td>-0.492876</td>\n",
       "      <td>2.086857</td>\n",
       "      <td>-0.593154</td>\n",
       "      <td>0.664457</td>\n",
       "    </tr>\n",
       "    <tr>\n",
       "      <th>15</th>\n",
       "      <td>-0.425815</td>\n",
       "      <td>-0.743363</td>\n",
       "      <td>2.721852</td>\n",
       "      <td>-0.299294</td>\n",
       "      <td>0.702184</td>\n",
       "    </tr>\n",
       "    <tr>\n",
       "      <th>16</th>\n",
       "      <td>-0.479658</td>\n",
       "      <td>-0.523636</td>\n",
       "      <td>2.795710</td>\n",
       "      <td>-0.350517</td>\n",
       "      <td>0.636807</td>\n",
       "    </tr>\n",
       "    <tr>\n",
       "      <th>17</th>\n",
       "      <td>-0.288059</td>\n",
       "      <td>-0.906621</td>\n",
       "      <td>2.185106</td>\n",
       "      <td>-0.360967</td>\n",
       "      <td>0.757008</td>\n",
       "    </tr>\n",
       "    <tr>\n",
       "      <th>18</th>\n",
       "      <td>-0.328656</td>\n",
       "      <td>0.368574</td>\n",
       "      <td>1.627588</td>\n",
       "      <td>-0.363036</td>\n",
       "      <td>0.065666</td>\n",
       "    </tr>\n",
       "    <tr>\n",
       "      <th>19</th>\n",
       "      <td>-0.301150</td>\n",
       "      <td>-0.296245</td>\n",
       "      <td>1.077550</td>\n",
       "      <td>0.654052</td>\n",
       "      <td>0.079266</td>\n",
       "    </tr>\n",
       "    <tr>\n",
       "      <th>20</th>\n",
       "      <td>-0.503984</td>\n",
       "      <td>-0.530530</td>\n",
       "      <td>2.771971</td>\n",
       "      <td>-0.136223</td>\n",
       "      <td>0.574365</td>\n",
       "    </tr>\n",
       "    <tr>\n",
       "      <th>21</th>\n",
       "      <td>-0.408355</td>\n",
       "      <td>-0.831799</td>\n",
       "      <td>2.552032</td>\n",
       "      <td>-0.191207</td>\n",
       "      <td>0.715850</td>\n",
       "    </tr>\n",
       "    <tr>\n",
       "      <th>22</th>\n",
       "      <td>-0.440155</td>\n",
       "      <td>-0.312627</td>\n",
       "      <td>2.659782</td>\n",
       "      <td>-0.538774</td>\n",
       "      <td>0.561016</td>\n",
       "    </tr>\n",
       "    <tr>\n",
       "      <th>23</th>\n",
       "      <td>-0.391795</td>\n",
       "      <td>-0.672817</td>\n",
       "      <td>2.570494</td>\n",
       "      <td>-0.256136</td>\n",
       "      <td>0.618653</td>\n",
       "    </tr>\n",
       "    <tr>\n",
       "      <th>24</th>\n",
       "      <td>-0.436338</td>\n",
       "      <td>-0.525895</td>\n",
       "      <td>2.777907</td>\n",
       "      <td>-0.418321</td>\n",
       "      <td>0.619502</td>\n",
       "    </tr>\n",
       "    <tr>\n",
       "      <th>25</th>\n",
       "      <td>-0.491370</td>\n",
       "      <td>-0.602839</td>\n",
       "      <td>2.605303</td>\n",
       "      <td>-0.069026</td>\n",
       "      <td>0.602239</td>\n",
       "    </tr>\n",
       "    <tr>\n",
       "      <th>26</th>\n",
       "      <td>-0.047663</td>\n",
       "      <td>-0.055911</td>\n",
       "      <td>0.218073</td>\n",
       "      <td>-0.060304</td>\n",
       "      <td>0.087815</td>\n",
       "    </tr>\n",
       "    <tr>\n",
       "      <th>27</th>\n",
       "      <td>-0.010486</td>\n",
       "      <td>-0.048499</td>\n",
       "      <td>0.081724</td>\n",
       "      <td>-0.049540</td>\n",
       "      <td>0.054524</td>\n",
       "    </tr>\n",
       "    <tr>\n",
       "      <th>28</th>\n",
       "      <td>-0.449328</td>\n",
       "      <td>-0.435144</td>\n",
       "      <td>2.548351</td>\n",
       "      <td>-0.335664</td>\n",
       "      <td>0.575478</td>\n",
       "    </tr>\n",
       "    <tr>\n",
       "      <th>29</th>\n",
       "      <td>0.513918</td>\n",
       "      <td>-1.351654</td>\n",
       "      <td>-0.196534</td>\n",
       "      <td>0.035723</td>\n",
       "      <td>0.264246</td>\n",
       "    </tr>\n",
       "    <tr>\n",
       "      <th>30</th>\n",
       "      <td>-0.361936</td>\n",
       "      <td>1.323565</td>\n",
       "      <td>0.176775</td>\n",
       "      <td>-0.466667</td>\n",
       "      <td>-0.227781</td>\n",
       "    </tr>\n",
       "    <tr>\n",
       "      <th>31</th>\n",
       "      <td>0.034925</td>\n",
       "      <td>0.038867</td>\n",
       "      <td>-0.007702</td>\n",
       "      <td>-0.121800</td>\n",
       "      <td>-0.010054</td>\n",
       "    </tr>\n",
       "    <tr>\n",
       "      <th>32</th>\n",
       "      <td>-0.259784</td>\n",
       "      <td>-0.229943</td>\n",
       "      <td>0.054730</td>\n",
       "      <td>1.205319</td>\n",
       "      <td>-0.104789</td>\n",
       "    </tr>\n",
       "    <tr>\n",
       "      <th>33</th>\n",
       "      <td>-0.071670</td>\n",
       "      <td>-0.060086</td>\n",
       "      <td>0.088057</td>\n",
       "      <td>0.247027</td>\n",
       "      <td>-0.002952</td>\n",
       "    </tr>\n",
       "    <tr>\n",
       "      <th>34</th>\n",
       "      <td>-0.230991</td>\n",
       "      <td>0.529655</td>\n",
       "      <td>0.000978</td>\n",
       "      <td>-0.041302</td>\n",
       "      <td>-0.041230</td>\n",
       "    </tr>\n",
       "    <tr>\n",
       "      <th>35</th>\n",
       "      <td>-0.102295</td>\n",
       "      <td>0.104727</td>\n",
       "      <td>0.121943</td>\n",
       "      <td>0.153149</td>\n",
       "      <td>-0.034343</td>\n",
       "    </tr>\n",
       "    <tr>\n",
       "      <th>36</th>\n",
       "      <td>0.264284</td>\n",
       "      <td>-1.234050</td>\n",
       "      <td>0.099303</td>\n",
       "      <td>0.524563</td>\n",
       "      <td>0.216848</td>\n",
       "    </tr>\n",
       "    <tr>\n",
       "      <th>37</th>\n",
       "      <td>-0.264284</td>\n",
       "      <td>1.234050</td>\n",
       "      <td>-0.099303</td>\n",
       "      <td>-0.524563</td>\n",
       "      <td>-0.216848</td>\n",
       "    </tr>\n",
       "    <tr>\n",
       "      <th>38</th>\n",
       "      <td>-0.210039</td>\n",
       "      <td>-0.920303</td>\n",
       "      <td>0.337527</td>\n",
       "      <td>1.319274</td>\n",
       "      <td>0.184978</td>\n",
       "    </tr>\n",
       "    <tr>\n",
       "      <th>39</th>\n",
       "      <td>-0.124336</td>\n",
       "      <td>-0.819604</td>\n",
       "      <td>0.005995</td>\n",
       "      <td>1.397420</td>\n",
       "      <td>0.031141</td>\n",
       "    </tr>\n",
       "    <tr>\n",
       "      <th>40</th>\n",
       "      <td>-0.081556</td>\n",
       "      <td>0.532181</td>\n",
       "      <td>-0.564323</td>\n",
       "      <td>0.362902</td>\n",
       "      <td>-0.324593</td>\n",
       "    </tr>\n",
       "    <tr>\n",
       "      <th>41</th>\n",
       "      <td>-0.315026</td>\n",
       "      <td>-0.602851</td>\n",
       "      <td>1.429365</td>\n",
       "      <td>-0.162212</td>\n",
       "      <td>0.623807</td>\n",
       "    </tr>\n",
       "    <tr>\n",
       "      <th>42</th>\n",
       "      <td>0.085697</td>\n",
       "      <td>-0.862243</td>\n",
       "      <td>0.098464</td>\n",
       "      <td>0.370714</td>\n",
       "      <td>0.267461</td>\n",
       "    </tr>\n",
       "    <tr>\n",
       "      <th>43</th>\n",
       "      <td>-0.085697</td>\n",
       "      <td>0.862243</td>\n",
       "      <td>-0.098464</td>\n",
       "      <td>-0.370714</td>\n",
       "      <td>-0.267461</td>\n",
       "    </tr>\n",
       "    <tr>\n",
       "      <th>44</th>\n",
       "      <td>0.020250</td>\n",
       "      <td>0.247364</td>\n",
       "      <td>-0.203892</td>\n",
       "      <td>-0.151831</td>\n",
       "      <td>-0.081567</td>\n",
       "    </tr>\n",
       "    <tr>\n",
       "      <th>45</th>\n",
       "      <td>-0.052767</td>\n",
       "      <td>-0.301651</td>\n",
       "      <td>0.393497</td>\n",
       "      <td>0.011670</td>\n",
       "      <td>0.191957</td>\n",
       "    </tr>\n",
       "    <tr>\n",
       "      <th>46</th>\n",
       "      <td>0.021013</td>\n",
       "      <td>0.001522</td>\n",
       "      <td>-0.109041</td>\n",
       "      <td>0.128151</td>\n",
       "      <td>-0.069321</td>\n",
       "    </tr>\n",
       "    <tr>\n",
       "      <th>47</th>\n",
       "      <td>0.051766</td>\n",
       "      <td>0.601529</td>\n",
       "      <td>-1.014208</td>\n",
       "      <td>0.244873</td>\n",
       "      <td>-0.404640</td>\n",
       "    </tr>\n",
       "    <tr>\n",
       "      <th>48</th>\n",
       "      <td>-0.402777</td>\n",
       "      <td>-0.430565</td>\n",
       "      <td>-0.003731</td>\n",
       "      <td>1.832345</td>\n",
       "      <td>-0.081954</td>\n",
       "    </tr>\n",
       "    <tr>\n",
       "      <th>49</th>\n",
       "      <td>-0.401424</td>\n",
       "      <td>-0.532833</td>\n",
       "      <td>0.507312</td>\n",
       "      <td>1.412635</td>\n",
       "      <td>0.096073</td>\n",
       "    </tr>\n",
       "  </tbody>\n",
       "</table>\n",
       "</div>"
      ],
      "text/plain": [
       "           0         1         2         3         4\n",
       "0  -0.436368 -0.491214  1.094436 -0.101137  0.728311\n",
       "1  -0.462728  1.329280  0.075824 -0.064658 -0.279284\n",
       "2  -0.235614 -0.948449  1.099807 -0.139697  0.796209\n",
       "3  -0.243898 -0.320798  0.124813  0.849982  0.090998\n",
       "4  -0.394368 -0.343549  0.084607  1.649192 -0.077760\n",
       "5  -0.290715 -0.325274 -0.011783  1.481517 -0.123134\n",
       "6  -0.376021 -0.150476  0.400977  0.782731  0.128901\n",
       "7  -0.464031 -0.677120  2.851574 -0.331825  0.699867\n",
       "8  -0.260773 -0.673298  1.060786 -0.356155  0.755727\n",
       "9  -0.450725 -0.729448  2.788694 -0.307898  0.716867\n",
       "10 -0.299602  0.000113  1.718098 -0.293672  0.223274\n",
       "11 -0.080688 -0.097797  0.686146 -0.270466  0.177229\n",
       "12 -0.475001 -0.637161  2.638162 -0.311681  0.713424\n",
       "13 -0.355574 -0.588559  2.534236 -0.211407  0.503438\n",
       "14 -0.330511 -0.492876  2.086857 -0.593154  0.664457\n",
       "15 -0.425815 -0.743363  2.721852 -0.299294  0.702184\n",
       "16 -0.479658 -0.523636  2.795710 -0.350517  0.636807\n",
       "17 -0.288059 -0.906621  2.185106 -0.360967  0.757008\n",
       "18 -0.328656  0.368574  1.627588 -0.363036  0.065666\n",
       "19 -0.301150 -0.296245  1.077550  0.654052  0.079266\n",
       "20 -0.503984 -0.530530  2.771971 -0.136223  0.574365\n",
       "21 -0.408355 -0.831799  2.552032 -0.191207  0.715850\n",
       "22 -0.440155 -0.312627  2.659782 -0.538774  0.561016\n",
       "23 -0.391795 -0.672817  2.570494 -0.256136  0.618653\n",
       "24 -0.436338 -0.525895  2.777907 -0.418321  0.619502\n",
       "25 -0.491370 -0.602839  2.605303 -0.069026  0.602239\n",
       "26 -0.047663 -0.055911  0.218073 -0.060304  0.087815\n",
       "27 -0.010486 -0.048499  0.081724 -0.049540  0.054524\n",
       "28 -0.449328 -0.435144  2.548351 -0.335664  0.575478\n",
       "29  0.513918 -1.351654 -0.196534  0.035723  0.264246\n",
       "30 -0.361936  1.323565  0.176775 -0.466667 -0.227781\n",
       "31  0.034925  0.038867 -0.007702 -0.121800 -0.010054\n",
       "32 -0.259784 -0.229943  0.054730  1.205319 -0.104789\n",
       "33 -0.071670 -0.060086  0.088057  0.247027 -0.002952\n",
       "34 -0.230991  0.529655  0.000978 -0.041302 -0.041230\n",
       "35 -0.102295  0.104727  0.121943  0.153149 -0.034343\n",
       "36  0.264284 -1.234050  0.099303  0.524563  0.216848\n",
       "37 -0.264284  1.234050 -0.099303 -0.524563 -0.216848\n",
       "38 -0.210039 -0.920303  0.337527  1.319274  0.184978\n",
       "39 -0.124336 -0.819604  0.005995  1.397420  0.031141\n",
       "40 -0.081556  0.532181 -0.564323  0.362902 -0.324593\n",
       "41 -0.315026 -0.602851  1.429365 -0.162212  0.623807\n",
       "42  0.085697 -0.862243  0.098464  0.370714  0.267461\n",
       "43 -0.085697  0.862243 -0.098464 -0.370714 -0.267461\n",
       "44  0.020250  0.247364 -0.203892 -0.151831 -0.081567\n",
       "45 -0.052767 -0.301651  0.393497  0.011670  0.191957\n",
       "46  0.021013  0.001522 -0.109041  0.128151 -0.069321\n",
       "47  0.051766  0.601529 -1.014208  0.244873 -0.404640\n",
       "48 -0.402777 -0.430565 -0.003731  1.832345 -0.081954\n",
       "49 -0.401424 -0.532833  0.507312  1.412635  0.096073"
      ]
     },
     "execution_count": 413,
     "metadata": {},
     "output_type": "execute_result"
    }
   ],
   "source": [
    "centroids.transpose()"
   ]
  },
  {
   "cell_type": "code",
   "execution_count": null,
   "metadata": {
    "collapsed": true
   },
   "outputs": [],
   "source": []
  }
 ],
 "metadata": {
  "kernelspec": {
   "display_name": "Python 2",
   "language": "python",
   "name": "python2"
  },
  "language_info": {
   "codemirror_mode": {
    "name": "ipython",
    "version": 2
   },
   "file_extension": ".py",
   "mimetype": "text/x-python",
   "name": "python",
   "nbconvert_exporter": "python",
   "pygments_lexer": "ipython2",
   "version": "2.7.9"
  }
 },
 "nbformat": 4,
 "nbformat_minor": 0
}
