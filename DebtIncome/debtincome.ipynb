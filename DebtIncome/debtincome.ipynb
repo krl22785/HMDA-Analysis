{
 "cells": [
  {
   "cell_type": "code",
   "execution_count": 4,
   "metadata": {
    "collapsed": false
   },
   "outputs": [],
   "source": [
    "import pandas as pd\n",
    "import statsmodels.api as sm # \n",
    "import numpy as np \n",
    "from scipy import stats\n",
    "\n",
    "import matplotlib.pyplot as plt\n",
    "%matplotlib inline "
   ]
  },
  {
   "cell_type": "code",
   "execution_count": 5,
   "metadata": {
    "collapsed": false
   },
   "outputs": [],
   "source": [
    "df = pd.read_csv(\"part-00000\", sep = '\\t', header = None, names = ['key', 'debtincome'])"
   ]
  },
  {
   "cell_type": "code",
   "execution_count": null,
   "metadata": {
    "collapsed": false
   },
   "outputs": [],
   "source": []
  },
  {
   "cell_type": "code",
   "execution_count": 6,
   "metadata": {
    "collapsed": false
   },
   "outputs": [],
   "source": [
    "df.loc[:,'state'] = df['key'].apply(lambda x: eval(x)[0])\n",
    "df.loc[:,'msa'] = df['key'].apply(lambda x: eval(x)[1])\n",
    "df.loc[:,'county'] = df['key'].apply(lambda x: eval(x)[2])\n",
    "df.loc[:,'year'] = df['key'].apply(lambda x: eval(x)[3])"
   ]
  },
  {
   "cell_type": "code",
   "execution_count": 7,
   "metadata": {
    "collapsed": false
   },
   "outputs": [],
   "source": [
    "df = df[['key', 'state', 'msa', 'county', 'year', 'debtincome']]"
   ]
  },
  {
   "cell_type": "code",
   "execution_count": 8,
   "metadata": {
    "collapsed": false
   },
   "outputs": [],
   "source": [
    "def extractMSA(row):\n",
    "    x = row['msa']\n",
    "    toAdd = x.split(\" - \")[0].split(\", \")[0]\n",
    "    return toAdd"
   ]
  },
  {
   "cell_type": "code",
   "execution_count": 9,
   "metadata": {
    "collapsed": true
   },
   "outputs": [],
   "source": [
    "def extractState(row):\n",
    "    x = row['msa']\n",
    "    toAdd = x.split(\" - \")[1]\n",
    "    return toAdd"
   ]
  },
  {
   "cell_type": "code",
   "execution_count": 10,
   "metadata": {
    "collapsed": false
   },
   "outputs": [],
   "source": [
    "df.loc[:,('stateFilter')] = df.apply(extractState, axis = 1)"
   ]
  },
  {
   "cell_type": "code",
   "execution_count": null,
   "metadata": {
    "collapsed": false
   },
   "outputs": [],
   "source": []
  },
  {
   "cell_type": "code",
   "execution_count": 11,
   "metadata": {
    "collapsed": false
   },
   "outputs": [],
   "source": [
    "def getSlope(msastring):\n",
    "    debtincome = df[df['msa'] == msastring]['debtincome']\n",
    "    \n",
    "    x = np.arange(0, len(debtincome))\n",
    "    y = np.array(debtincome)\n",
    "    slope, intercept, r_value, p_value, std_err = stats.linregress(x,y)\n",
    "    \n",
    "    return slope"
   ]
  },
  {
   "cell_type": "code",
   "execution_count": 12,
   "metadata": {
    "collapsed": false
   },
   "outputs": [],
   "source": [
    "msa = pd.Series(df['msa'].ravel()).unique()"
   ]
  },
  {
   "cell_type": "code",
   "execution_count": 28,
   "metadata": {
    "collapsed": false
   },
   "outputs": [],
   "source": [
    "debtincomeMSA = {} \n",
    "\n",
    "for i in msa:\n",
    "    debtincomeMSA[i] = round(getSlope(i), 3)"
   ]
  },
  {
   "cell_type": "code",
   "execution_count": null,
   "metadata": {
    "collapsed": false
   },
   "outputs": [],
   "source": []
  },
  {
   "cell_type": "code",
   "execution_count": 25,
   "metadata": {
    "collapsed": false
   },
   "outputs": [],
   "source": [
    "debtincomeMSA = sorted(debtincomeMSA.items(), key=lambda x: -x[1])"
   ]
  },
  {
   "cell_type": "code",
   "execution_count": 29,
   "metadata": {
    "collapsed": false
   },
   "outputs": [],
   "source": [
    "diArray = sorted(debtincomeMSA.items(), key=lambda x: x[0])"
   ]
  },
  {
   "cell_type": "code",
   "execution_count": 30,
   "metadata": {
    "collapsed": false
   },
   "outputs": [],
   "source": [
    "# for i in diArray:\n",
    "#     x = i[0].split(\" - \")[0]\n",
    "#     print x.split(\",\")[0]\n",
    "\n",
    "output = pd.DataFrame(diArray, columns = ['msa', 'slope'])"
   ]
  },
  {
   "cell_type": "code",
   "execution_count": 32,
   "metadata": {
    "collapsed": false
   },
   "outputs": [
    {
     "data": {
      "text/html": [
       "<div style=\"max-height:1000px;max-width:1500px;overflow:auto;\">\n",
       "<table border=\"1\" class=\"dataframe\">\n",
       "  <thead>\n",
       "    <tr style=\"text-align: right;\">\n",
       "      <th></th>\n",
       "      <th>msa</th>\n",
       "      <th>slope</th>\n",
       "    </tr>\n",
       "  </thead>\n",
       "  <tbody>\n",
       "    <tr>\n",
       "      <th>0</th>\n",
       "      <td>Abilene - TX</td>\n",
       "      <td>0.003</td>\n",
       "    </tr>\n",
       "    <tr>\n",
       "      <th>1</th>\n",
       "      <td>Aguadilla, Isabela, San Sebastian - PR</td>\n",
       "      <td>0.003</td>\n",
       "    </tr>\n",
       "    <tr>\n",
       "      <th>2</th>\n",
       "      <td>Akron - OH</td>\n",
       "      <td>-0.005</td>\n",
       "    </tr>\n",
       "    <tr>\n",
       "      <th>3</th>\n",
       "      <td>Albany - GA</td>\n",
       "      <td>-0.002</td>\n",
       "    </tr>\n",
       "    <tr>\n",
       "      <th>4</th>\n",
       "      <td>Albany, Schenectady, Troy - NY</td>\n",
       "      <td>-0.010</td>\n",
       "    </tr>\n",
       "  </tbody>\n",
       "</table>\n",
       "</div>"
      ],
      "text/plain": [
       "                                      msa  slope\n",
       "0                            Abilene - TX  0.003\n",
       "1  Aguadilla, Isabela, San Sebastian - PR  0.003\n",
       "2                              Akron - OH -0.005\n",
       "3                             Albany - GA -0.002\n",
       "4          Albany, Schenectady, Troy - NY -0.010"
      ]
     },
     "execution_count": 32,
     "metadata": {},
     "output_type": "execute_result"
    }
   ],
   "source": [
    "output.head()"
   ]
  },
  {
   "cell_type": "markdown",
   "metadata": {},
   "source": [
    "####ACS Data"
   ]
  },
  {
   "cell_type": "code",
   "execution_count": 33,
   "metadata": {
    "collapsed": false
   },
   "outputs": [],
   "source": [
    "acs = pd.read_csv(\"acs.csv\")"
   ]
  },
  {
   "cell_type": "code",
   "execution_count": 34,
   "metadata": {
    "collapsed": false
   },
   "outputs": [],
   "source": [
    "acs = acs[['Geo_QName', 'Geo_STUSAB', 'SE_T057_001', 'SE_T101_001']]"
   ]
  },
  {
   "cell_type": "code",
   "execution_count": 35,
   "metadata": {
    "collapsed": false
   },
   "outputs": [],
   "source": [
    "acs.loc[:,('stateFilter')] = acs.apply(lambda row: row['Geo_STUSAB'].upper(), axis=1)\n",
    "acs.loc[:,('msaFilter')] = acs.apply(lambda row: row['Geo_QName'].split(\", \")[0].split(\"-\")[0], axis = 1)"
   ]
  },
  {
   "cell_type": "code",
   "execution_count": 36,
   "metadata": {
    "collapsed": false
   },
   "outputs": [
    {
     "data": {
      "text/html": [
       "<div style=\"max-height:1000px;max-width:1500px;overflow:auto;\">\n",
       "<table border=\"1\" class=\"dataframe\">\n",
       "  <thead>\n",
       "    <tr style=\"text-align: right;\">\n",
       "      <th></th>\n",
       "      <th>Geo_QName</th>\n",
       "      <th>Geo_STUSAB</th>\n",
       "      <th>SE_T057_001</th>\n",
       "      <th>SE_T101_001</th>\n",
       "      <th>stateFilter</th>\n",
       "      <th>msaFilter</th>\n",
       "    </tr>\n",
       "  </thead>\n",
       "  <tbody>\n",
       "    <tr>\n",
       "      <th>0</th>\n",
       "      <td>Albertville, Alabama</td>\n",
       "      <td>al</td>\n",
       "      <td>39526</td>\n",
       "      <td>114000</td>\n",
       "      <td>AL</td>\n",
       "      <td>Albertville</td>\n",
       "    </tr>\n",
       "    <tr>\n",
       "      <th>1</th>\n",
       "      <td>Anniston-Oxford-Jacksonville, Alabama</td>\n",
       "      <td>al</td>\n",
       "      <td>39962</td>\n",
       "      <td>100600</td>\n",
       "      <td>AL</td>\n",
       "      <td>Anniston</td>\n",
       "    </tr>\n",
       "    <tr>\n",
       "      <th>2</th>\n",
       "      <td>Auburn-Opelika, Alabama</td>\n",
       "      <td>al</td>\n",
       "      <td>43542</td>\n",
       "      <td>146900</td>\n",
       "      <td>AL</td>\n",
       "      <td>Auburn</td>\n",
       "    </tr>\n",
       "    <tr>\n",
       "      <th>3</th>\n",
       "      <td>Birmingham-Hoover, Alabama</td>\n",
       "      <td>al</td>\n",
       "      <td>48336</td>\n",
       "      <td>143400</td>\n",
       "      <td>AL</td>\n",
       "      <td>Birmingham</td>\n",
       "    </tr>\n",
       "    <tr>\n",
       "      <th>4</th>\n",
       "      <td>Columbus, Alabama</td>\n",
       "      <td>al</td>\n",
       "      <td>36143</td>\n",
       "      <td>104400</td>\n",
       "      <td>AL</td>\n",
       "      <td>Columbus</td>\n",
       "    </tr>\n",
       "  </tbody>\n",
       "</table>\n",
       "</div>"
      ],
      "text/plain": [
       "                               Geo_QName Geo_STUSAB  SE_T057_001  SE_T101_001  \\\n",
       "0                   Albertville, Alabama         al        39526       114000   \n",
       "1  Anniston-Oxford-Jacksonville, Alabama         al        39962       100600   \n",
       "2                Auburn-Opelika, Alabama         al        43542       146900   \n",
       "3             Birmingham-Hoover, Alabama         al        48336       143400   \n",
       "4                      Columbus, Alabama         al        36143       104400   \n",
       "\n",
       "  stateFilter    msaFilter  \n",
       "0          AL  Albertville  \n",
       "1          AL     Anniston  \n",
       "2          AL       Auburn  \n",
       "3          AL   Birmingham  \n",
       "4          AL     Columbus  "
      ]
     },
     "execution_count": 36,
     "metadata": {},
     "output_type": "execute_result"
    }
   ],
   "source": [
    "acs.head()"
   ]
  },
  {
   "cell_type": "code",
   "execution_count": 37,
   "metadata": {
    "collapsed": false
   },
   "outputs": [],
   "source": [
    "output.loc[:,'msaFilter'] = output.apply(extractMSA, axis = 1)\n",
    "output.loc[:,'stateFilter'] = output.apply(extractState, axis = 1)"
   ]
  },
  {
   "cell_type": "code",
   "execution_count": 38,
   "metadata": {
    "collapsed": false
   },
   "outputs": [
    {
     "data": {
      "text/html": [
       "<div style=\"max-height:1000px;max-width:1500px;overflow:auto;\">\n",
       "<table border=\"1\" class=\"dataframe\">\n",
       "  <thead>\n",
       "    <tr style=\"text-align: right;\">\n",
       "      <th></th>\n",
       "      <th>msa</th>\n",
       "      <th>slope</th>\n",
       "      <th>msaFilter</th>\n",
       "      <th>stateFilter</th>\n",
       "    </tr>\n",
       "  </thead>\n",
       "  <tbody>\n",
       "    <tr>\n",
       "      <th>0</th>\n",
       "      <td>Abilene - TX</td>\n",
       "      <td>0.003</td>\n",
       "      <td>Abilene</td>\n",
       "      <td>TX</td>\n",
       "    </tr>\n",
       "    <tr>\n",
       "      <th>1</th>\n",
       "      <td>Aguadilla, Isabela, San Sebastian - PR</td>\n",
       "      <td>0.003</td>\n",
       "      <td>Aguadilla</td>\n",
       "      <td>PR</td>\n",
       "    </tr>\n",
       "    <tr>\n",
       "      <th>2</th>\n",
       "      <td>Akron - OH</td>\n",
       "      <td>-0.005</td>\n",
       "      <td>Akron</td>\n",
       "      <td>OH</td>\n",
       "    </tr>\n",
       "    <tr>\n",
       "      <th>3</th>\n",
       "      <td>Albany - GA</td>\n",
       "      <td>-0.002</td>\n",
       "      <td>Albany</td>\n",
       "      <td>GA</td>\n",
       "    </tr>\n",
       "    <tr>\n",
       "      <th>4</th>\n",
       "      <td>Albany, Schenectady, Troy - NY</td>\n",
       "      <td>-0.010</td>\n",
       "      <td>Albany</td>\n",
       "      <td>NY</td>\n",
       "    </tr>\n",
       "  </tbody>\n",
       "</table>\n",
       "</div>"
      ],
      "text/plain": [
       "                                      msa  slope  msaFilter stateFilter\n",
       "0                            Abilene - TX  0.003    Abilene          TX\n",
       "1  Aguadilla, Isabela, San Sebastian - PR  0.003  Aguadilla          PR\n",
       "2                              Akron - OH -0.005      Akron          OH\n",
       "3                             Albany - GA -0.002     Albany          GA\n",
       "4          Albany, Schenectady, Troy - NY -0.010     Albany          NY"
      ]
     },
     "execution_count": 38,
     "metadata": {},
     "output_type": "execute_result"
    }
   ],
   "source": [
    "output.head()"
   ]
  },
  {
   "cell_type": "code",
   "execution_count": 39,
   "metadata": {
    "collapsed": false
   },
   "outputs": [],
   "source": [
    "result = pd.merge(output, acs, how = 'left', on = ['stateFilter', 'msaFilter'])\n",
    "result = result[['msa', 'slope', 'SE_T057_001', 'SE_T101_001']]"
   ]
  },
  {
   "cell_type": "code",
   "execution_count": 40,
   "metadata": {
    "collapsed": false
   },
   "outputs": [
    {
     "data": {
      "text/html": [
       "<div style=\"max-height:1000px;max-width:1500px;overflow:auto;\">\n",
       "<table border=\"1\" class=\"dataframe\">\n",
       "  <thead>\n",
       "    <tr style=\"text-align: right;\">\n",
       "      <th></th>\n",
       "      <th>msa</th>\n",
       "      <th>slope</th>\n",
       "      <th>SE_T057_001</th>\n",
       "      <th>SE_T101_001</th>\n",
       "    </tr>\n",
       "  </thead>\n",
       "  <tbody>\n",
       "    <tr>\n",
       "      <th>0</th>\n",
       "      <td>Abilene - TX</td>\n",
       "      <td>0.003</td>\n",
       "      <td>44446</td>\n",
       "      <td>89000</td>\n",
       "    </tr>\n",
       "    <tr>\n",
       "      <th>1</th>\n",
       "      <td>Aguadilla, Isabela, San Sebastian - PR</td>\n",
       "      <td>0.003</td>\n",
       "      <td>15152</td>\n",
       "      <td>105800</td>\n",
       "    </tr>\n",
       "    <tr>\n",
       "      <th>2</th>\n",
       "      <td>Akron - OH</td>\n",
       "      <td>-0.005</td>\n",
       "      <td>50392</td>\n",
       "      <td>139100</td>\n",
       "    </tr>\n",
       "    <tr>\n",
       "      <th>3</th>\n",
       "      <td>Albany - GA</td>\n",
       "      <td>-0.002</td>\n",
       "      <td>35885</td>\n",
       "      <td>106300</td>\n",
       "    </tr>\n",
       "    <tr>\n",
       "      <th>4</th>\n",
       "      <td>Albany, Schenectady, Troy - NY</td>\n",
       "      <td>-0.010</td>\n",
       "      <td>61291</td>\n",
       "      <td>197500</td>\n",
       "    </tr>\n",
       "  </tbody>\n",
       "</table>\n",
       "</div>"
      ],
      "text/plain": [
       "                                      msa  slope  SE_T057_001  SE_T101_001\n",
       "0                            Abilene - TX  0.003        44446        89000\n",
       "1  Aguadilla, Isabela, San Sebastian - PR  0.003        15152       105800\n",
       "2                              Akron - OH -0.005        50392       139100\n",
       "3                             Albany - GA -0.002        35885       106300\n",
       "4          Albany, Schenectady, Troy - NY -0.010        61291       197500"
      ]
     },
     "execution_count": 40,
     "metadata": {},
     "output_type": "execute_result"
    }
   ],
   "source": [
    "result.head()\n"
   ]
  },
  {
   "cell_type": "code",
   "execution_count": 43,
   "metadata": {
    "collapsed": false
   },
   "outputs": [],
   "source": [
    "pd.set_option('display.mpl_style', 'default')"
   ]
  },
  {
   "cell_type": "code",
   "execution_count": 74,
   "metadata": {
    "collapsed": false
   },
   "outputs": [
    {
     "data": {
      "text/plain": [
       "<matplotlib.text.Text at 0x10a30fb90>"
      ]
     },
     "execution_count": 74,
     "metadata": {},
     "output_type": "execute_result"
    },
    {
     "data": {
      "image/png": "[encoded data removed]",
      "text/plain": [
       "<matplotlib.figure.Figure at 0x10ad504d0>"
      ]
     },
     "metadata": {},
     "output_type": "display_data"
    }
   ],
   "source": [
    "plt.figure(figsize=(10,5))\n",
    "plt.plot(result['SE_T057_001'], np.log(result['slope']), 'o')\n",
    "plt.title('Median Household Income vs \\nSlope in Debt/Income (07-13)')\n",
    "plt.xlabel(\"Median Household Income\")\n",
    "plt.ylabel(\"Slope from 2007-2013\")"
   ]
  },
  {
   "cell_type": "code",
   "execution_count": 75,
   "metadata": {
    "collapsed": false
   },
   "outputs": [
    {
     "data": {
      "text/plain": [
       "<matplotlib.text.Text at 0x10a58b110>"
      ]
     },
     "execution_count": 75,
     "metadata": {},
     "output_type": "execute_result"
    },
    {
     "data": {
      "image/png": "[encoded data removed]",
      "text/plain": [
       "<matplotlib.figure.Figure at 0x10abaef50>"
      ]
     },
     "metadata": {},
     "output_type": "display_data"
    }
   ],
   "source": [
    "plt.figure(figsize=(10,5))\n",
    "plt.plot(result['SE_T101_001'], np.log(result['slope']), 'o')\n",
    "plt.title('Median Household Value vs \\nSlope in Debt/Income (07-13)')\n",
    "plt.xlabel(\"Median Household Value\")\n",
    "plt.ylabel(\"Slope from 2007-2013\")"
   ]
  },
  {
   "cell_type": "code",
   "execution_count": null,
   "metadata": {
    "collapsed": true
   },
   "outputs": [],
   "source": []
  }
 ],
 "metadata": {
  "kernelspec": {
   "display_name": "Python 2",
   "language": "python",
   "name": "python2"
  },
  "language_info": {
   "codemirror_mode": {
    "name": "ipython",
    "version": 2
   },
   "file_extension": ".py",
   "mimetype": "text/x-python",
   "name": "python",
   "nbconvert_exporter": "python",
   "pygments_lexer": "ipython2",
   "version": "2.7.9"
  }
 },
 "nbformat": 4,
 "nbformat_minor": 0
}
