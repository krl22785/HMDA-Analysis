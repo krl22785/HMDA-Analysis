{
 "cells": [
  {
   "cell_type": "code",
   "execution_count": 1,
   "metadata": {
    "collapsed": true
   },
   "outputs": [],
   "source": [
    "import pandas as pd"
   ]
  },
  {
   "cell_type": "code",
   "execution_count": 9,
   "metadata": {
    "collapsed": false
   },
   "outputs": [],
   "source": [
    "df = pd.read_csv(\"part-00000\", sep = '\\t', header = None, names = ['key', 'debtincome'])"
   ]
  },
  {
   "cell_type": "code",
   "execution_count": 4,
   "metadata": {
    "collapsed": false
   },
   "outputs": [
    {
     "data": {
      "text/html": [
       "<div style=\"max-height:1000px;max-width:1500px;overflow:auto;\">\n",
       "<table border=\"1\" class=\"dataframe\">\n",
       "  <thead>\n",
       "    <tr style=\"text-align: right;\">\n",
       "      <th></th>\n",
       "      <th>key</th>\n",
       "      <th>debtincome</th>\n",
       "    </tr>\n",
       "  </thead>\n",
       "  <tbody>\n",
       "    <tr>\n",
       "      <th>0</th>\n",
       "      <td>('Alabama', 'Anniston, Oxford - AL', 'Calhoun ...</td>\n",
       "      <td>1.731879</td>\n",
       "    </tr>\n",
       "    <tr>\n",
       "      <th>1</th>\n",
       "      <td>('Alabama', 'Anniston, Oxford - AL', 'Calhoun ...</td>\n",
       "      <td>1.786440</td>\n",
       "    </tr>\n",
       "    <tr>\n",
       "      <th>2</th>\n",
       "      <td>('Alabama', 'Anniston, Oxford - AL', 'Calhoun ...</td>\n",
       "      <td>1.838941</td>\n",
       "    </tr>\n",
       "    <tr>\n",
       "      <th>3</th>\n",
       "      <td>('Alabama', 'Anniston, Oxford - AL', 'Calhoun ...</td>\n",
       "      <td>1.944490</td>\n",
       "    </tr>\n",
       "    <tr>\n",
       "      <th>4</th>\n",
       "      <td>('Alabama', 'Anniston, Oxford - AL', 'Calhoun ...</td>\n",
       "      <td>1.946002</td>\n",
       "    </tr>\n",
       "  </tbody>\n",
       "</table>\n",
       "</div>"
      ],
      "text/plain": [
       "                                                 key  debtincome\n",
       "0  ('Alabama', 'Anniston, Oxford - AL', 'Calhoun ...    1.731879\n",
       "1  ('Alabama', 'Anniston, Oxford - AL', 'Calhoun ...    1.786440\n",
       "2  ('Alabama', 'Anniston, Oxford - AL', 'Calhoun ...    1.838941\n",
       "3  ('Alabama', 'Anniston, Oxford - AL', 'Calhoun ...    1.944490\n",
       "4  ('Alabama', 'Anniston, Oxford - AL', 'Calhoun ...    1.946002"
      ]
     },
     "execution_count": 4,
     "metadata": {},
     "output_type": "execute_result"
    }
   ],
   "source": [
    "df.head()"
   ]
  },
  {
   "cell_type": "code",
   "execution_count": 36,
   "metadata": {
    "collapsed": true
   },
   "outputs": [],
   "source": [
    "df.loc[:,'state'] = df['key'].apply(lambda x: eval(x)[0])\n",
    "df.loc[:,'msa'] = df['key'].apply(lambda x: eval(x)[1])\n",
    "df.loc[:,'county'] = df['key'].apply(lambda x: eval(x)[2])\n",
    "df.loc[:,'year'] = df['key'].apply(lambda x: eval(x)[3])"
   ]
  },
  {
   "cell_type": "code",
   "execution_count": 43,
   "metadata": {
    "collapsed": false
   },
   "outputs": [],
   "source": [
    "df = df[['state', 'msa', 'county', 'year', 'debtincome']]"
   ]
  },
  {
   "cell_type": "code",
   "execution_count": 47,
   "metadata": {
    "collapsed": false
   },
   "outputs": [],
   "source": [
    "df.sort(['year', 'debtincome'], ascending = [True, False], inplace = True)"
   ]
  },
  {
   "cell_type": "code",
   "execution_count": 59,
   "metadata": {
    "collapsed": false
   },
   "outputs": [],
   "source": [
    "df2010 = df[(df['year'] == '2010') & (df['state'] != 'Puerto Rico')]"
   ]
  },
  {
   "cell_type": "code",
   "execution_count": 61,
   "metadata": {
    "collapsed": false
   },
   "outputs": [
    {
     "data": {
      "text/plain": [
       "count    1100.000000\n",
       "mean        1.936381\n",
       "std         0.440259\n",
       "min         0.524301\n",
       "25%         1.668230\n",
       "50%         1.921164\n",
       "75%         2.220707\n",
       "max         5.771094\n",
       "Name: debtincome, dtype: float64"
      ]
     },
     "execution_count": 61,
     "metadata": {},
     "output_type": "execute_result"
    }
   ],
   "source": [
    "df2010['debtincome'].describe()"
   ]
  },
  {
   "cell_type": "code",
   "execution_count": null,
   "metadata": {
    "collapsed": true
   },
   "outputs": [],
   "source": []
  }
 ],
 "metadata": {
  "kernelspec": {
   "display_name": "Python 2",
   "language": "python",
   "name": "python2"
  },
  "language_info": {
   "codemirror_mode": {
    "name": "ipython",
    "version": 2
   },
   "file_extension": ".py",
   "mimetype": "text/x-python",
   "name": "python",
   "nbconvert_exporter": "python",
   "pygments_lexer": "ipython2",
   "version": "2.7.9"
  }
 },
 "nbformat": 4,
 "nbformat_minor": 0
}
